{
  "cells": [
    {
      "cell_type": "markdown",
      "metadata": {
        "collapsed": true,
        "jupyter": {
          "outputs_hidden": true
        },
        "nbgrader": {
          "grade": false,
          "grade_id": "cell-b281c94847b72202",
          "locked": true,
          "schema_version": 3,
          "solution": false,
          "task": false
        },
        "id": "vF7Uc1F6lfCq"
      },
      "source": [
        "# Lab 8 Web Scraping [Total: 3 points]\n",
        "\n",
        "The purpose of this assignment is for you to engage with a concrete web scraping task. This will be accomplished through a coding assignment. You will carry out this task in the present notebook and use the notebook to document the various steps of the exercise and to answer all questions.\n",
        "\n",
        "\n",
        "## Required skills\n",
        "\n",
        "This lab will let you practice the following skills:\n",
        "- Download HTML\n",
        "- Parse HTML\n",
        "\n",
        "A few additional resources can be found here:\n",
        "- https://docs.python-requests.org/\n",
        "- https://beautiful-soup-4.readthedocs.io"
      ]
    },
    {
      "cell_type": "markdown",
      "metadata": {
        "id": "VJbb8IJplfCt"
      },
      "source": [
        "## Important\n",
        "* Please ensure that you run the following two cells below before running any others. This will download all required files, as well as install the necessary packages to ensure the code runs successfully. If you restart the kernel or your runtime session (in Colab), be sure to rerun this cell before running any others.\n",
        "* This assignment recommends using Google Colab. If you are using Anaconda Jupyter notebook/lab, please ensure that **this notebook is kept in a new folder**. This is because the following commands will **delete all files with the extensions .csv and .py** before downloading the required files."
      ]
    },
    {
      "cell_type": "code",
      "execution_count": 1,
      "metadata": {
        "colab": {
          "base_uri": "https://localhost:8080/"
        },
        "id": "-IKGaSFJlfCu",
        "outputId": "2b433bab-cac0-4304-86d7-3f5bc05070b6"
      },
      "outputs": [
        {
          "output_type": "stream",
          "name": "stdout",
          "text": [
            "--2024-11-08 15:16:51--  https://github.com/mainuddin-rony/inst447-fall2024/raw/main/assignment/lab/lab8/required_files.zip\n",
            "Resolving github.com (github.com)... 140.82.113.4\n",
            "Connecting to github.com (github.com)|140.82.113.4|:443... connected.\n",
            "HTTP request sent, awaiting response... 302 Found\n",
            "Location: https://raw.githubusercontent.com/mainuddin-rony/inst447-fall2024/main/assignment/lab/lab8/required_files.zip [following]\n",
            "--2024-11-08 15:16:51--  https://raw.githubusercontent.com/mainuddin-rony/inst447-fall2024/main/assignment/lab/lab8/required_files.zip\n",
            "Resolving raw.githubusercontent.com (raw.githubusercontent.com)... 185.199.108.133, 185.199.109.133, 185.199.110.133, ...\n",
            "Connecting to raw.githubusercontent.com (raw.githubusercontent.com)|185.199.108.133|:443... connected.\n",
            "HTTP request sent, awaiting response... 200 OK\n",
            "Length: 5958 (5.8K) [application/zip]\n",
            "Saving to: ‘required_files.zip’\n",
            "\n",
            "required_files.zip  100%[===================>]   5.82K  --.-KB/s    in 0s      \n",
            "\n",
            "2024-11-08 15:16:52 (50.4 MB/s) - ‘required_files.zip’ saved [5958/5958]\n",
            "\n",
            "Archive:  required_files.zip\n",
            "  inflating: q1.py                   \n",
            "  inflating: q3.py                   \n",
            "  inflating: q2.py                   \n",
            "  inflating: q1file.html             \n",
            "  inflating: solutionq3.txt          \n",
            "Collecting otter-grader==5.7.1\n",
            "  Downloading otter_grader-5.7.1-py3-none-any.whl.metadata (2.9 kB)\n",
            "Collecting dill (from otter-grader==5.7.1)\n",
            "  Downloading dill-0.3.9-py3-none-any.whl.metadata (10 kB)\n",
            "Requirement already satisfied: jinja2 in /usr/local/lib/python3.10/dist-packages (from otter-grader==5.7.1) (3.1.4)\n",
            "Requirement already satisfied: nbformat in /usr/local/lib/python3.10/dist-packages (from otter-grader==5.7.1) (5.10.4)\n",
            "Requirement already satisfied: pandas in /usr/local/lib/python3.10/dist-packages (from otter-grader==5.7.1) (2.2.2)\n",
            "Requirement already satisfied: PyYAML in /usr/local/lib/python3.10/dist-packages (from otter-grader==5.7.1) (6.0.2)\n",
            "Collecting python-on-whales (from otter-grader==5.7.1)\n",
            "  Downloading python_on_whales-0.73.0-py3-none-any.whl.metadata (18 kB)\n",
            "Requirement already satisfied: requests in /usr/local/lib/python3.10/dist-packages (from otter-grader==5.7.1) (2.32.3)\n",
            "Requirement already satisfied: wrapt in /usr/local/lib/python3.10/dist-packages (from otter-grader==5.7.1) (1.16.0)\n",
            "Collecting jupytext (from otter-grader==5.7.1)\n",
            "  Downloading jupytext-1.16.4-py3-none-any.whl.metadata (13 kB)\n",
            "Requirement already satisfied: click in /usr/local/lib/python3.10/dist-packages (from otter-grader==5.7.1) (8.1.7)\n",
            "Collecting fica>=0.3.1 (from otter-grader==5.7.1)\n",
            "  Downloading fica-0.4.1-py3-none-any.whl.metadata (2.0 kB)\n",
            "Requirement already satisfied: ipython in /usr/local/lib/python3.10/dist-packages (from otter-grader==5.7.1) (7.34.0)\n",
            "Requirement already satisfied: astunparse in /usr/local/lib/python3.10/dist-packages (from otter-grader==5.7.1) (1.6.3)\n",
            "Requirement already satisfied: ipywidgets in /usr/local/lib/python3.10/dist-packages (from otter-grader==5.7.1) (7.7.1)\n",
            "Collecting ipylab (from otter-grader==5.7.1)\n",
            "  Downloading ipylab-1.0.0-py3-none-any.whl.metadata (6.7 kB)\n",
            "Requirement already satisfied: setuptools in /usr/local/lib/python3.10/dist-packages (from otter-grader==5.7.1) (75.1.0)\n",
            "Requirement already satisfied: nbconvert in /usr/local/lib/python3.10/dist-packages (from otter-grader==5.7.1) (7.16.4)\n",
            "Requirement already satisfied: docutils in /usr/local/lib/python3.10/dist-packages (from fica>=0.3.1->otter-grader==5.7.1) (0.18.1)\n",
            "Requirement already satisfied: sphinx in /usr/local/lib/python3.10/dist-packages (from fica>=0.3.1->otter-grader==5.7.1) (5.0.2)\n",
            "Requirement already satisfied: wheel<1.0,>=0.23.0 in /usr/local/lib/python3.10/dist-packages (from astunparse->otter-grader==5.7.1) (0.44.0)\n",
            "Requirement already satisfied: six<2.0,>=1.6.1 in /usr/local/lib/python3.10/dist-packages (from astunparse->otter-grader==5.7.1) (1.16.0)\n",
            "Requirement already satisfied: ipykernel>=4.5.1 in /usr/local/lib/python3.10/dist-packages (from ipywidgets->otter-grader==5.7.1) (5.5.6)\n",
            "Requirement already satisfied: ipython-genutils~=0.2.0 in /usr/local/lib/python3.10/dist-packages (from ipywidgets->otter-grader==5.7.1) (0.2.0)\n",
            "Requirement already satisfied: traitlets>=4.3.1 in /usr/local/lib/python3.10/dist-packages (from ipywidgets->otter-grader==5.7.1) (5.7.1)\n",
            "Requirement already satisfied: widgetsnbextension~=3.6.0 in /usr/local/lib/python3.10/dist-packages (from ipywidgets->otter-grader==5.7.1) (3.6.10)\n",
            "Requirement already satisfied: jupyterlab-widgets>=1.0.0 in /usr/local/lib/python3.10/dist-packages (from ipywidgets->otter-grader==5.7.1) (3.0.13)\n",
            "Collecting jedi>=0.16 (from ipython->otter-grader==5.7.1)\n",
            "  Downloading jedi-0.19.1-py2.py3-none-any.whl.metadata (22 kB)\n",
            "Requirement already satisfied: decorator in /usr/local/lib/python3.10/dist-packages (from ipython->otter-grader==5.7.1) (4.4.2)\n",
            "Requirement already satisfied: pickleshare in /usr/local/lib/python3.10/dist-packages (from ipython->otter-grader==5.7.1) (0.7.5)\n",
            "Requirement already satisfied: prompt-toolkit!=3.0.0,!=3.0.1,<3.1.0,>=2.0.0 in /usr/local/lib/python3.10/dist-packages (from ipython->otter-grader==5.7.1) (3.0.48)\n",
            "Requirement already satisfied: pygments in /usr/local/lib/python3.10/dist-packages (from ipython->otter-grader==5.7.1) (2.18.0)\n",
            "Requirement already satisfied: backcall in /usr/local/lib/python3.10/dist-packages (from ipython->otter-grader==5.7.1) (0.2.0)\n",
            "Requirement already satisfied: matplotlib-inline in /usr/local/lib/python3.10/dist-packages (from ipython->otter-grader==5.7.1) (0.1.7)\n",
            "Requirement already satisfied: pexpect>4.3 in /usr/local/lib/python3.10/dist-packages (from ipython->otter-grader==5.7.1) (4.9.0)\n",
            "Requirement already satisfied: MarkupSafe>=2.0 in /usr/local/lib/python3.10/dist-packages (from jinja2->otter-grader==5.7.1) (3.0.2)\n",
            "Requirement already satisfied: markdown-it-py>=1.0 in /usr/local/lib/python3.10/dist-packages (from jupytext->otter-grader==5.7.1) (3.0.0)\n",
            "Requirement already satisfied: mdit-py-plugins in /usr/local/lib/python3.10/dist-packages (from jupytext->otter-grader==5.7.1) (0.4.2)\n",
            "Requirement already satisfied: packaging in /usr/local/lib/python3.10/dist-packages (from jupytext->otter-grader==5.7.1) (24.1)\n",
            "Requirement already satisfied: tomli in /usr/local/lib/python3.10/dist-packages (from jupytext->otter-grader==5.7.1) (2.0.2)\n",
            "Requirement already satisfied: beautifulsoup4 in /usr/local/lib/python3.10/dist-packages (from nbconvert->otter-grader==5.7.1) (4.12.3)\n",
            "Requirement already satisfied: bleach!=5.0.0 in /usr/local/lib/python3.10/dist-packages (from nbconvert->otter-grader==5.7.1) (6.2.0)\n",
            "Requirement already satisfied: defusedxml in /usr/local/lib/python3.10/dist-packages (from nbconvert->otter-grader==5.7.1) (0.7.1)\n",
            "Requirement already satisfied: jupyter-core>=4.7 in /usr/local/lib/python3.10/dist-packages (from nbconvert->otter-grader==5.7.1) (5.7.2)\n",
            "Requirement already satisfied: jupyterlab-pygments in /usr/local/lib/python3.10/dist-packages (from nbconvert->otter-grader==5.7.1) (0.3.0)\n",
            "Requirement already satisfied: mistune<4,>=2.0.3 in /usr/local/lib/python3.10/dist-packages (from nbconvert->otter-grader==5.7.1) (3.0.2)\n",
            "Requirement already satisfied: nbclient>=0.5.0 in /usr/local/lib/python3.10/dist-packages (from nbconvert->otter-grader==5.7.1) (0.10.0)\n",
            "Requirement already satisfied: pandocfilters>=1.4.1 in /usr/local/lib/python3.10/dist-packages (from nbconvert->otter-grader==5.7.1) (1.5.1)\n",
            "Requirement already satisfied: tinycss2 in /usr/local/lib/python3.10/dist-packages (from nbconvert->otter-grader==5.7.1) (1.4.0)\n",
            "Requirement already satisfied: fastjsonschema>=2.15 in /usr/local/lib/python3.10/dist-packages (from nbformat->otter-grader==5.7.1) (2.20.0)\n",
            "Requirement already satisfied: jsonschema>=2.6 in /usr/local/lib/python3.10/dist-packages (from nbformat->otter-grader==5.7.1) (4.23.0)\n",
            "Requirement already satisfied: numpy>=1.22.4 in /usr/local/lib/python3.10/dist-packages (from pandas->otter-grader==5.7.1) (1.26.4)\n",
            "Requirement already satisfied: python-dateutil>=2.8.2 in /usr/local/lib/python3.10/dist-packages (from pandas->otter-grader==5.7.1) (2.8.2)\n",
            "Requirement already satisfied: pytz>=2020.1 in /usr/local/lib/python3.10/dist-packages (from pandas->otter-grader==5.7.1) (2024.2)\n",
            "Requirement already satisfied: tzdata>=2022.7 in /usr/local/lib/python3.10/dist-packages (from pandas->otter-grader==5.7.1) (2024.2)\n",
            "Requirement already satisfied: pydantic!=2.0.*,<3,>=2 in /usr/local/lib/python3.10/dist-packages (from python-on-whales->otter-grader==5.7.1) (2.9.2)\n",
            "Requirement already satisfied: tqdm in /usr/local/lib/python3.10/dist-packages (from python-on-whales->otter-grader==5.7.1) (4.66.6)\n",
            "Requirement already satisfied: typer>=0.4.1 in /usr/local/lib/python3.10/dist-packages (from python-on-whales->otter-grader==5.7.1) (0.12.5)\n",
            "Requirement already satisfied: typing-extensions in /usr/local/lib/python3.10/dist-packages (from python-on-whales->otter-grader==5.7.1) (4.12.2)\n",
            "Requirement already satisfied: charset-normalizer<4,>=2 in /usr/local/lib/python3.10/dist-packages (from requests->otter-grader==5.7.1) (3.4.0)\n",
            "Requirement already satisfied: idna<4,>=2.5 in /usr/local/lib/python3.10/dist-packages (from requests->otter-grader==5.7.1) (3.10)\n",
            "Requirement already satisfied: urllib3<3,>=1.21.1 in /usr/local/lib/python3.10/dist-packages (from requests->otter-grader==5.7.1) (2.2.3)\n",
            "Requirement already satisfied: certifi>=2017.4.17 in /usr/local/lib/python3.10/dist-packages (from requests->otter-grader==5.7.1) (2024.8.30)\n",
            "Requirement already satisfied: webencodings in /usr/local/lib/python3.10/dist-packages (from bleach!=5.0.0->nbconvert->otter-grader==5.7.1) (0.5.1)\n",
            "Requirement already satisfied: jupyter-client in /usr/local/lib/python3.10/dist-packages (from ipykernel>=4.5.1->ipywidgets->otter-grader==5.7.1) (6.1.12)\n",
            "Requirement already satisfied: tornado>=4.2 in /usr/local/lib/python3.10/dist-packages (from ipykernel>=4.5.1->ipywidgets->otter-grader==5.7.1) (6.3.3)\n",
            "Requirement already satisfied: parso<0.9.0,>=0.8.3 in /usr/local/lib/python3.10/dist-packages (from jedi>=0.16->ipython->otter-grader==5.7.1) (0.8.4)\n",
            "Requirement already satisfied: attrs>=22.2.0 in /usr/local/lib/python3.10/dist-packages (from jsonschema>=2.6->nbformat->otter-grader==5.7.1) (24.2.0)\n",
            "Requirement already satisfied: jsonschema-specifications>=2023.03.6 in /usr/local/lib/python3.10/dist-packages (from jsonschema>=2.6->nbformat->otter-grader==5.7.1) (2024.10.1)\n",
            "Requirement already satisfied: referencing>=0.28.4 in /usr/local/lib/python3.10/dist-packages (from jsonschema>=2.6->nbformat->otter-grader==5.7.1) (0.35.1)\n",
            "Requirement already satisfied: rpds-py>=0.7.1 in /usr/local/lib/python3.10/dist-packages (from jsonschema>=2.6->nbformat->otter-grader==5.7.1) (0.20.0)\n",
            "Requirement already satisfied: platformdirs>=2.5 in /usr/local/lib/python3.10/dist-packages (from jupyter-core>=4.7->nbconvert->otter-grader==5.7.1) (4.3.6)\n",
            "Requirement already satisfied: mdurl~=0.1 in /usr/local/lib/python3.10/dist-packages (from markdown-it-py>=1.0->jupytext->otter-grader==5.7.1) (0.1.2)\n",
            "Requirement already satisfied: ptyprocess>=0.5 in /usr/local/lib/python3.10/dist-packages (from pexpect>4.3->ipython->otter-grader==5.7.1) (0.7.0)\n",
            "Requirement already satisfied: wcwidth in /usr/local/lib/python3.10/dist-packages (from prompt-toolkit!=3.0.0,!=3.0.1,<3.1.0,>=2.0.0->ipython->otter-grader==5.7.1) (0.2.13)\n",
            "Requirement already satisfied: annotated-types>=0.6.0 in /usr/local/lib/python3.10/dist-packages (from pydantic!=2.0.*,<3,>=2->python-on-whales->otter-grader==5.7.1) (0.7.0)\n",
            "Requirement already satisfied: pydantic-core==2.23.4 in /usr/local/lib/python3.10/dist-packages (from pydantic!=2.0.*,<3,>=2->python-on-whales->otter-grader==5.7.1) (2.23.4)\n",
            "Requirement already satisfied: shellingham>=1.3.0 in /usr/local/lib/python3.10/dist-packages (from typer>=0.4.1->python-on-whales->otter-grader==5.7.1) (1.5.4)\n",
            "Requirement already satisfied: rich>=10.11.0 in /usr/local/lib/python3.10/dist-packages (from typer>=0.4.1->python-on-whales->otter-grader==5.7.1) (13.9.3)\n",
            "Requirement already satisfied: notebook>=4.4.1 in /usr/local/lib/python3.10/dist-packages (from widgetsnbextension~=3.6.0->ipywidgets->otter-grader==5.7.1) (6.5.5)\n",
            "Requirement already satisfied: soupsieve>1.2 in /usr/local/lib/python3.10/dist-packages (from beautifulsoup4->nbconvert->otter-grader==5.7.1) (2.6)\n",
            "Requirement already satisfied: sphinxcontrib-applehelp in /usr/local/lib/python3.10/dist-packages (from sphinx->fica>=0.3.1->otter-grader==5.7.1) (2.0.0)\n",
            "Requirement already satisfied: sphinxcontrib-devhelp in /usr/local/lib/python3.10/dist-packages (from sphinx->fica>=0.3.1->otter-grader==5.7.1) (2.0.0)\n",
            "Requirement already satisfied: sphinxcontrib-jsmath in /usr/local/lib/python3.10/dist-packages (from sphinx->fica>=0.3.1->otter-grader==5.7.1) (1.0.1)\n",
            "Requirement already satisfied: sphinxcontrib-htmlhelp>=2.0.0 in /usr/local/lib/python3.10/dist-packages (from sphinx->fica>=0.3.1->otter-grader==5.7.1) (2.1.0)\n",
            "Requirement already satisfied: sphinxcontrib-serializinghtml>=1.1.5 in /usr/local/lib/python3.10/dist-packages (from sphinx->fica>=0.3.1->otter-grader==5.7.1) (2.0.0)\n",
            "Requirement already satisfied: sphinxcontrib-qthelp in /usr/local/lib/python3.10/dist-packages (from sphinx->fica>=0.3.1->otter-grader==5.7.1) (2.0.0)\n",
            "Requirement already satisfied: snowballstemmer>=1.1 in /usr/local/lib/python3.10/dist-packages (from sphinx->fica>=0.3.1->otter-grader==5.7.1) (2.2.0)\n",
            "Requirement already satisfied: babel>=1.3 in /usr/local/lib/python3.10/dist-packages (from sphinx->fica>=0.3.1->otter-grader==5.7.1) (2.16.0)\n",
            "Requirement already satisfied: alabaster<0.8,>=0.7 in /usr/local/lib/python3.10/dist-packages (from sphinx->fica>=0.3.1->otter-grader==5.7.1) (0.7.16)\n",
            "Requirement already satisfied: imagesize in /usr/local/lib/python3.10/dist-packages (from sphinx->fica>=0.3.1->otter-grader==5.7.1) (1.4.1)\n",
            "Requirement already satisfied: pyzmq>=13 in /usr/local/lib/python3.10/dist-packages (from jupyter-client->ipykernel>=4.5.1->ipywidgets->otter-grader==5.7.1) (24.0.1)\n",
            "Requirement already satisfied: argon2-cffi in /usr/local/lib/python3.10/dist-packages (from notebook>=4.4.1->widgetsnbextension~=3.6.0->ipywidgets->otter-grader==5.7.1) (23.1.0)\n",
            "Requirement already satisfied: nest-asyncio>=1.5 in /usr/local/lib/python3.10/dist-packages (from notebook>=4.4.1->widgetsnbextension~=3.6.0->ipywidgets->otter-grader==5.7.1) (1.6.0)\n",
            "Requirement already satisfied: Send2Trash>=1.8.0 in /usr/local/lib/python3.10/dist-packages (from notebook>=4.4.1->widgetsnbextension~=3.6.0->ipywidgets->otter-grader==5.7.1) (1.8.3)\n",
            "Requirement already satisfied: terminado>=0.8.3 in /usr/local/lib/python3.10/dist-packages (from notebook>=4.4.1->widgetsnbextension~=3.6.0->ipywidgets->otter-grader==5.7.1) (0.18.1)\n",
            "Requirement already satisfied: prometheus-client in /usr/local/lib/python3.10/dist-packages (from notebook>=4.4.1->widgetsnbextension~=3.6.0->ipywidgets->otter-grader==5.7.1) (0.21.0)\n",
            "Requirement already satisfied: nbclassic>=0.4.7 in /usr/local/lib/python3.10/dist-packages (from notebook>=4.4.1->widgetsnbextension~=3.6.0->ipywidgets->otter-grader==5.7.1) (1.1.0)\n",
            "Requirement already satisfied: notebook-shim>=0.2.3 in /usr/local/lib/python3.10/dist-packages (from nbclassic>=0.4.7->notebook>=4.4.1->widgetsnbextension~=3.6.0->ipywidgets->otter-grader==5.7.1) (0.2.4)\n",
            "Requirement already satisfied: argon2-cffi-bindings in /usr/local/lib/python3.10/dist-packages (from argon2-cffi->notebook>=4.4.1->widgetsnbextension~=3.6.0->ipywidgets->otter-grader==5.7.1) (21.2.0)\n",
            "Requirement already satisfied: jupyter-server<3,>=1.8 in /usr/local/lib/python3.10/dist-packages (from notebook-shim>=0.2.3->nbclassic>=0.4.7->notebook>=4.4.1->widgetsnbextension~=3.6.0->ipywidgets->otter-grader==5.7.1) (1.24.0)\n",
            "Requirement already satisfied: cffi>=1.0.1 in /usr/local/lib/python3.10/dist-packages (from argon2-cffi-bindings->argon2-cffi->notebook>=4.4.1->widgetsnbextension~=3.6.0->ipywidgets->otter-grader==5.7.1) (1.17.1)\n",
            "Requirement already satisfied: pycparser in /usr/local/lib/python3.10/dist-packages (from cffi>=1.0.1->argon2-cffi-bindings->argon2-cffi->notebook>=4.4.1->widgetsnbextension~=3.6.0->ipywidgets->otter-grader==5.7.1) (2.22)\n",
            "Requirement already satisfied: anyio<4,>=3.1.0 in /usr/local/lib/python3.10/dist-packages (from jupyter-server<3,>=1.8->notebook-shim>=0.2.3->nbclassic>=0.4.7->notebook>=4.4.1->widgetsnbextension~=3.6.0->ipywidgets->otter-grader==5.7.1) (3.7.1)\n",
            "Requirement already satisfied: websocket-client in /usr/local/lib/python3.10/dist-packages (from jupyter-server<3,>=1.8->notebook-shim>=0.2.3->nbclassic>=0.4.7->notebook>=4.4.1->widgetsnbextension~=3.6.0->ipywidgets->otter-grader==5.7.1) (1.8.0)\n",
            "Requirement already satisfied: sniffio>=1.1 in /usr/local/lib/python3.10/dist-packages (from anyio<4,>=3.1.0->jupyter-server<3,>=1.8->notebook-shim>=0.2.3->nbclassic>=0.4.7->notebook>=4.4.1->widgetsnbextension~=3.6.0->ipywidgets->otter-grader==5.7.1) (1.3.1)\n",
            "Requirement already satisfied: exceptiongroup in /usr/local/lib/python3.10/dist-packages (from anyio<4,>=3.1.0->jupyter-server<3,>=1.8->notebook-shim>=0.2.3->nbclassic>=0.4.7->notebook>=4.4.1->widgetsnbextension~=3.6.0->ipywidgets->otter-grader==5.7.1) (1.2.2)\n",
            "Downloading otter_grader-5.7.1-py3-none-any.whl (162 kB)\n",
            "\u001b[2K   \u001b[90m━━━━━━━━━━━━━━━━━━━━━━━━━━━━━━━━━━━━━━━━\u001b[0m \u001b[32m162.1/162.1 kB\u001b[0m \u001b[31m3.4 MB/s\u001b[0m eta \u001b[36m0:00:00\u001b[0m\n",
            "\u001b[?25hDownloading fica-0.4.1-py3-none-any.whl (13 kB)\n",
            "Downloading dill-0.3.9-py3-none-any.whl (119 kB)\n",
            "\u001b[2K   \u001b[90m━━━━━━━━━━━━━━━━━━━━━━━━━━━━━━━━━━━━━━━━\u001b[0m \u001b[32m119.4/119.4 kB\u001b[0m \u001b[31m4.7 MB/s\u001b[0m eta \u001b[36m0:00:00\u001b[0m\n",
            "\u001b[?25hDownloading ipylab-1.0.0-py3-none-any.whl (100 kB)\n",
            "\u001b[2K   \u001b[90m━━━━━━━━━━━━━━━━━━━━━━━━━━━━━━━━━━━━━━━━\u001b[0m \u001b[32m100.2/100.2 kB\u001b[0m \u001b[31m2.8 MB/s\u001b[0m eta \u001b[36m0:00:00\u001b[0m\n",
            "\u001b[?25hDownloading jupytext-1.16.4-py3-none-any.whl (153 kB)\n",
            "\u001b[2K   \u001b[90m━━━━━━━━━━━━━━━━━━━━━━━━━━━━━━━━━━━━━━━━\u001b[0m \u001b[32m153.5/153.5 kB\u001b[0m \u001b[31m4.7 MB/s\u001b[0m eta \u001b[36m0:00:00\u001b[0m\n",
            "\u001b[?25hDownloading python_on_whales-0.73.0-py3-none-any.whl (118 kB)\n",
            "\u001b[2K   \u001b[90m━━━━━━━━━━━━━━━━━━━━━━━━━━━━━━━━━━━━━━━━\u001b[0m \u001b[32m118.1/118.1 kB\u001b[0m \u001b[31m4.3 MB/s\u001b[0m eta \u001b[36m0:00:00\u001b[0m\n",
            "\u001b[?25hDownloading jedi-0.19.1-py2.py3-none-any.whl (1.6 MB)\n",
            "\u001b[2K   \u001b[90m━━━━━━━━━━━━━━━━━━━━━━━━━━━━━━━━━━━━━━━━\u001b[0m \u001b[32m1.6/1.6 MB\u001b[0m \u001b[31m15.1 MB/s\u001b[0m eta \u001b[36m0:00:00\u001b[0m\n",
            "\u001b[?25hInstalling collected packages: jedi, dill, fica, python-on-whales, jupytext, ipylab, otter-grader\n",
            "Successfully installed dill-0.3.9 fica-0.4.1 ipylab-1.0.0 jedi-0.19.1 jupytext-1.16.4 otter-grader-5.7.1 python-on-whales-0.73.0\n"
          ]
        }
      ],
      "source": [
        "# Installing Otter-Grader and downloading required files\n",
        "required_files = \"https://github.com/mainuddin-rony/inst447-fall2024/raw/main/assignment/lab/lab8/required_files.zip\"\n",
        "! rm -rf tests\n",
        "! rm -f required_files.zip *.csv *.py ._*.csv *.html *.txt\n",
        "! wget $required_files && unzip -j required_files.zip\n",
        "! mkdir tests && mv *.py tests\n",
        "! pip install otter-grader==5.7.1"
      ]
    },
    {
      "cell_type": "code",
      "execution_count": 2,
      "metadata": {
        "id": "OMAlGKVLlfCv"
      },
      "outputs": [],
      "source": [
        "# Initialize Otter\n",
        "import otter\n",
        "grader = otter.Notebook()"
      ]
    },
    {
      "cell_type": "markdown",
      "metadata": {
        "nbgrader": {
          "grade": false,
          "grade_id": "cell-4b60f94bb3daf986",
          "locked": true,
          "schema_version": 3,
          "solution": false,
          "task": false
        },
        "id": "KPtJZk1XlfCv"
      },
      "source": [
        "## Q1\n",
        "\n",
        "**Points**: 1\n",
        "\n",
        "Write a function `gettextbytag` that extracts all the text of a given HTML tag within an HTML file. Your function should accept 2 arguments -- the name of an HTML file as a string, and the name of an HTML tag as a string.\n",
        "\n",
        "It should return a list of string, where for each occurrence of the tag in the file, it should include the text of the tag.\n",
        "\n",
        "For example, if the file `q1file.html` is:\n",
        "\n",
        "```html\n",
        "<!DOCTYPE html>\n",
        "<html>\n",
        "<head>\n",
        "<title>Page Title</title>\n",
        "</head>\n",
        "<body>\n",
        "\n",
        "<h1>This is a Heading</h1>\n",
        "<p class=\"firstpara\">This is first paragraph.</p>\n",
        "<p>This is second paragraph.</p>\n",
        "<p id=\"third\">This is third paragraph.</p>\n",
        "\n",
        "</body>\n",
        "</html>\n",
        "```\n",
        "\n",
        "and the tag is `\"h1\"`, then your function should return\n",
        "```\n",
        "['This is a Heading']\n",
        "```"
      ]
    },
    {
      "cell_type": "code",
      "execution_count": 3,
      "metadata": {
        "nbgrader": {
          "grade": false,
          "grade_id": "cell-71eac3701300965f",
          "locked": false,
          "schema_version": 3,
          "solution": true,
          "task": false
        },
        "tags": [],
        "id": "V-DX0mUglfCv"
      },
      "outputs": [],
      "source": [
        "from bs4 import BeautifulSoup\n",
        "\n",
        "def gettextbytag(html_file, tag_name):\n",
        "  text_by_tag = []\n",
        "\n",
        "  with open(html_file, 'r') as f:\n",
        "        data_in_file = f.read()\n",
        "\n",
        "  beautiful_soup = BeautifulSoup(data_in_file, 'html.parser')\n",
        "\n",
        "  find_tags = beautiful_soup.find_all(tag_name)\n",
        "  for tag in find_tags:\n",
        "    text_by_tag.append(tag.get_text())\n",
        "\n",
        "  return text_by_tag"
      ]
    },
    {
      "cell_type": "markdown",
      "metadata": {
        "deletable": false,
        "editable": false,
        "nbgrader": {
          "grade": false,
          "grade_id": "cell-f7cfc973121ea8aa",
          "locked": true,
          "schema_version": 3,
          "solution": false,
          "task": false
        },
        "id": "xWteUfoLlfCv"
      },
      "source": [
        "Use the cell below to run your function and see what it returns. You may want to test different dates to see if your code returns the correct answer."
      ]
    },
    {
      "cell_type": "code",
      "execution_count": 4,
      "metadata": {
        "deletable": false,
        "editable": false,
        "colab": {
          "base_uri": "https://localhost:8080/"
        },
        "id": "ks2Tdf83lfCw",
        "outputId": "50bc0b4f-ec84-42dd-dc04-1157f187653b"
      },
      "outputs": [
        {
          "output_type": "execute_result",
          "data": {
            "text/plain": [
              "[]"
            ]
          },
          "metadata": {},
          "execution_count": 4
        }
      ],
      "source": [
        "gettextbytag(\"q1file.html\", \"a\")"
      ]
    },
    {
      "cell_type": "markdown",
      "metadata": {
        "deletable": false,
        "editable": false,
        "id": "rxU6dt_plfCw"
      },
      "source": [
        "When you're ready, run the cell below to get feedback on your answer."
      ]
    },
    {
      "cell_type": "code",
      "execution_count": 5,
      "metadata": {
        "deletable": false,
        "editable": false,
        "colab": {
          "base_uri": "https://localhost:8080/",
          "height": 46
        },
        "id": "UjQ1PEbllfCw",
        "outputId": "d33a9ead-dbfe-44b8-f3d2-9747855eabb0"
      },
      "outputs": [
        {
          "output_type": "execute_result",
          "data": {
            "text/plain": [
              "q1 results: All test cases passed!"
            ],
            "text/html": [
              "<p><strong><pre style='display: inline;'>q1</pre></strong> passed! 🎉</p>"
            ]
          },
          "metadata": {},
          "execution_count": 5
        }
      ],
      "source": [
        "grader.check(\"q1\")"
      ]
    },
    {
      "cell_type": "markdown",
      "metadata": {
        "id": "yjnKWlCVlfCw"
      },
      "source": [
        "<br/>\n",
        "<br/>\n",
        "<br/>\n",
        "<br/>\n",
        "<br/>\n",
        "<br/>\n",
        "\n",
        "---"
      ]
    },
    {
      "cell_type": "markdown",
      "metadata": {
        "nbgrader": {
          "grade": false,
          "grade_id": "cell-1be21350cbd12b20",
          "locked": true,
          "schema_version": 3,
          "solution": false,
          "task": false
        },
        "id": "AKEvMW50lfCw"
      },
      "source": [
        "## Q2\n",
        "\n",
        "__Points__: 1\n",
        "\n",
        "Write a function called `getbooksprice` that scrapes prices of books from the front page of the website [books.toscrape.com](//books.toscrape.com).\n",
        "\n",
        "Your function should take no parameter. It should fetch the front page of the website, and it should return a Python list of float values with the price (in pounds) of the books in it.\n",
        "\n",
        "**Hint**: if you see the symbol `Â` being printed in the price, then make sure to set the encoding from the response, like this:\n",
        "```\n",
        "    response = requests.get(\"https://books.toscrape.com/\")\n",
        "    response.encoding = 'utf-8'\n",
        "```\n",
        "before extracting the text from the response object."
      ]
    },
    {
      "cell_type": "code",
      "execution_count": 10,
      "metadata": {
        "nbgrader": {
          "grade": false,
          "grade_id": "cell-be041ec63b431940",
          "locked": false,
          "schema_version": 3,
          "solution": true,
          "task": false
        },
        "tags": [],
        "id": "8FFIeR6TlfCx"
      },
      "outputs": [],
      "source": [
        "from bs4 import BeautifulSoup\n",
        "import requests\n",
        "\n",
        "def getbooksprice():\n",
        "  book_prices = []\n",
        "\n",
        "  res = requests.get(\"https://books.toscrape.com/\")\n",
        "  res.encoding = 'utf-8'\n",
        "\n",
        "  beautiful_soup = BeautifulSoup(res.text, 'html.parser')\n",
        "\n",
        "  find_prices = beautiful_soup.find_all('p', {'class': 'price_color'})\n",
        "\n",
        "  for price in find_prices:\n",
        "        book_prices.append(float(price.get_text().strip('Â£')))\n",
        "\n",
        "  return book_prices"
      ]
    },
    {
      "cell_type": "markdown",
      "metadata": {
        "deletable": false,
        "editable": false,
        "nbgrader": {
          "grade": false,
          "grade_id": "cell-e747f11e285b2098",
          "locked": true,
          "schema_version": 3,
          "solution": false,
          "task": false
        },
        "id": "5v8VZQwFlfCx"
      },
      "source": [
        "Use the cell below to run your function and see what it returns."
      ]
    },
    {
      "cell_type": "code",
      "execution_count": 11,
      "metadata": {
        "deletable": false,
        "editable": false,
        "colab": {
          "base_uri": "https://localhost:8080/"
        },
        "id": "ZwQCLLvTlfCx",
        "outputId": "da145dcb-782b-4148-8369-5682a6799e42"
      },
      "outputs": [
        {
          "output_type": "execute_result",
          "data": {
            "text/plain": [
              "[51.77,\n",
              " 53.74,\n",
              " 50.1,\n",
              " 47.82,\n",
              " 54.23,\n",
              " 22.65,\n",
              " 33.34,\n",
              " 17.93,\n",
              " 22.6,\n",
              " 52.15,\n",
              " 13.99,\n",
              " 20.66,\n",
              " 17.46,\n",
              " 52.29,\n",
              " 35.02,\n",
              " 57.25,\n",
              " 23.88,\n",
              " 37.59,\n",
              " 51.33,\n",
              " 45.17]"
            ]
          },
          "metadata": {},
          "execution_count": 11
        }
      ],
      "source": [
        "getbooksprice()"
      ]
    },
    {
      "cell_type": "markdown",
      "metadata": {
        "deletable": false,
        "editable": false,
        "id": "S-NfrCeJlfCx"
      },
      "source": [
        "When you're ready, run the cell below to get feedback on your answer."
      ]
    },
    {
      "cell_type": "code",
      "execution_count": 7,
      "metadata": {
        "deletable": false,
        "editable": false,
        "colab": {
          "base_uri": "https://localhost:8080/",
          "height": 46
        },
        "id": "q1zDNJiUlfCx",
        "outputId": "ee1f97be-c8e2-475e-8d84-3e568311dd44"
      },
      "outputs": [
        {
          "output_type": "execute_result",
          "data": {
            "text/plain": [
              "q2 results: All test cases passed!"
            ],
            "text/html": [
              "<p><strong><pre style='display: inline;'>q2</pre></strong> passed! 💯</p>"
            ]
          },
          "metadata": {},
          "execution_count": 7
        }
      ],
      "source": [
        "grader.check(\"q2\")"
      ]
    },
    {
      "cell_type": "markdown",
      "metadata": {
        "id": "GXe80VlvlfCx"
      },
      "source": [
        "<br/>\n",
        "<br/>\n",
        "<br/>\n",
        "<br/>\n",
        "<br/>\n",
        "<br/>\n",
        "\n",
        "---"
      ]
    },
    {
      "cell_type": "markdown",
      "metadata": {
        "nbgrader": {
          "grade": false,
          "grade_id": "cell-7c60cfb18209ef74",
          "locked": true,
          "schema_version": 3,
          "solution": false,
          "task": false
        },
        "id": "d7Ee2VcZlfCx"
      },
      "source": [
        "## Q3\n",
        "\n",
        "__Points__: 1\n",
        "\n",
        "Write a function called `getbookspricebonus` that scrapes the prices of all the books on the website catalog in addition to the front page. Your function should fetch one page at a time, scrape the book prices, and append them to the final return value -- a NumPy array. Besides from the front page there are 50 additional pages of book catalog, each with 20 books, so the the array should contain exactly 1020 books in total. *Since the first catalog page contains the same books as the frontpage, this means that the first 20 books should appear twice in your array*.\n",
        "\n",
        "\n",
        "\n",
        "**Hint 1**: if you see the symbol `Â` being printed in the price, then make sure to set the encoding from the response, like this:\n",
        "```\n",
        "    response = requests.get(\"https://books.toscrape.com/\")\n",
        "    response.encoding = 'utf-8'\n",
        "```\n",
        "before extracting the text from the response object.\n",
        "\n",
        "**Hint 2**: Each additional catalog page is located at the following URL:\n",
        "\n",
        "    https://books.toscrape.com/catalogue/page-XX.html\n",
        "    \n",
        "Where `XX` ranges from 1 to 50."
      ]
    },
    {
      "cell_type": "code",
      "source": [
        "from bs4 import BeautifulSoup\n",
        "import requests\n",
        "import numpy as np\n",
        "\n",
        "def getbookspricebonus():\n",
        "    book_price_bonus = []\n",
        "\n",
        "\n",
        "    first_page = \"https://books.toscrape.com/\"\n",
        "    res = requests.get(first_page)\n",
        "    res.encoding = 'utf-8'\n",
        "    beautiful_soup = BeautifulSoup(res.text, 'html.parser')\n",
        "\n",
        "\n",
        "    first_page = beautiful_soup.find_all('p', {'class': 'price_color'})\n",
        "    for price in first_page:\n",
        "        book_price_bonus.append(float(price.get_text().strip('Â£')))\n",
        "\n",
        "\n",
        "    for i in range(1, 51):\n",
        "        other_pages = f\"https://books.toscrape.com/catalogue/page-{i}.html\"\n",
        "        res = requests.get(other_pages)\n",
        "        res.encoding = 'utf-8'\n",
        "        beautiful_soup = BeautifulSoup(res.text, 'html.parser')\n",
        "\n",
        "\n",
        "        other_page_prices = beautiful_soup.find_all('p', {'class': 'price_color'})\n",
        "        for price in other_page_prices:\n",
        "            book_price_bonus.append(float(price.get_text().strip('Â£')))\n",
        "\n",
        "    return np.array(book_price_bonus)"
      ],
      "metadata": {
        "id": "52Wm9BbbPooC"
      },
      "execution_count": 22,
      "outputs": []
    },
    {
      "cell_type": "markdown",
      "metadata": {
        "deletable": false,
        "editable": false,
        "nbgrader": {
          "grade": false,
          "grade_id": "cell-9dd2dca0e86fdc87",
          "locked": true,
          "schema_version": 3,
          "solution": false,
          "task": false
        },
        "id": "NhidCoYelfCx"
      },
      "source": [
        "Use the cell below to run your function and see what it returns."
      ]
    },
    {
      "cell_type": "code",
      "execution_count": 23,
      "metadata": {
        "deletable": false,
        "editable": false,
        "colab": {
          "base_uri": "https://localhost:8080/"
        },
        "id": "VVqzooi6lfCx",
        "outputId": "facd58a5-9461-4871-e37d-5987c81a0439"
      },
      "outputs": [
        {
          "output_type": "execute_result",
          "data": {
            "text/plain": [
              "array([51.77, 53.74, 50.1 , ..., 16.97, 53.98, 26.08])"
            ]
          },
          "metadata": {},
          "execution_count": 23
        }
      ],
      "source": [
        "getbookspricebonus()"
      ]
    },
    {
      "cell_type": "markdown",
      "metadata": {
        "deletable": false,
        "editable": false,
        "id": "Qa2g6UjIlfCx"
      },
      "source": [
        "When you're ready, run the cell below to get feedback on your answer."
      ]
    },
    {
      "cell_type": "code",
      "execution_count": 24,
      "metadata": {
        "deletable": false,
        "editable": false,
        "colab": {
          "base_uri": "https://localhost:8080/",
          "height": 46
        },
        "id": "X-Dww0LxlfCx",
        "outputId": "1e1a5bae-bdf7-482c-f7b4-ae7fa393be5f"
      },
      "outputs": [
        {
          "output_type": "execute_result",
          "data": {
            "text/plain": [
              "q3 results: All test cases passed!"
            ],
            "text/html": [
              "<p><strong><pre style='display: inline;'>q3</pre></strong> passed! 🚀</p>"
            ]
          },
          "metadata": {},
          "execution_count": 24
        }
      ],
      "source": [
        "grader.check(\"q3\")"
      ]
    },
    {
      "cell_type": "markdown",
      "metadata": {
        "id": "7xBDrOoKlfCy"
      },
      "source": [
        "<br/>\n",
        "<br/>\n",
        "<br/>\n",
        "<br/>\n",
        "<br/>\n",
        "<br/>\n",
        "\n",
        "---"
      ]
    },
    {
      "cell_type": "markdown",
      "metadata": {
        "id": "wEfoUPGMlfCy"
      },
      "source": [
        "## Submission\n",
        "\n",
        "Don't forget to run all cells in your notebook and then save it. To save, click on *File*, then select *Save/Save Notebook*. After that, download the notebook by going to *File --> Download* (for Anaconda Notebook) or *File --> Download .ipynb* (for Colab). Finally, submit the notebook on Gradescope using the link found on ELMS."
      ]
    }
  ],
  "metadata": {
    "celltoolbar": "Create Assignment",
    "kernelspec": {
      "display_name": "Python 3 (ipykernel)",
      "language": "python",
      "name": "python3"
    },
    "language_info": {
      "codemirror_mode": {
        "name": "ipython",
        "version": 3
      },
      "file_extension": ".py",
      "mimetype": "text/x-python",
      "name": "python",
      "nbconvert_exporter": "python",
      "pygments_lexer": "ipython3",
      "version": "3.11.7"
    },
    "otter": {
      "OK_FORMAT": false,
      "tests": {
        "q1": "from otter.test_files import test_case\n\nOK_FORMAT = False\n\nname = \"q1\"\npoints = None\n\n@test_case(points=None, hidden=False)\ndef test1_gettextbytag(gettextbytag):\n    assert gettextbytag(\"q1file.html\", \"h1\") == [\"This is a Heading\"], \"For the file 'q1file.html1', and the tag 'h1', the fuction should return ['This is a Heading'], but found \" + str(gettextbytag(\"q1file.html\", \"h1\"))\n    assert gettextbytag(\"q1file.html\", \"p\") == ['This is first paragraph.', 'This is second paragraph.', 'This is third paragraph.'], \"For the file 'q1file.html', and the tag 'p', the fuction should return ['This is first paragraph.', 'This is second paragraph.', 'This is third paragraph.'], but found \" + str(gettextbytag(\"q1file.html\", \"p\"))\n    assert gettextbytag(\"q1file.html\", \"a\") == [], \"For the file 'q1file.html1', and the tag 'a', the fuction should return an empty list, but found \" + str(gettextbytag(\"q1file.html\", \"a\"))\n\n",
        "q2": "from otter.test_files import test_case\n\nOK_FORMAT = False\n\nname = \"q2\"\npoints = None\n\n@test_case(points=None, hidden=False)\ndef test1_getbooksprice(getbooksprice):\n    assert type(getbooksprice()) is list, \"Error: Your solution should return a list, while it found a \" + str(type(getbooksprice()))\n    assert getbooksprice() == [51.77, 53.74, 50.1, 47.82, 54.23, 22.65, 33.34, 17.93, 22.6, 52.15, 13.99, 20.66, 17.46, 52.29, 35.02, 57.25, 23.88, 37.59, 51.33, 45.17], \"Error: Your solution return [51.77, 53.74, 50.1, 47.82, 54.23, 22.65, 33.34, 17.93, 22.6, 52.15, 13.99, 20.66, 17.46, 52.29, 35.02, 57.25, 23.88, 37.59, 51.33, 45.17], but found \" + str(getbooksprice())\n\n",
        "q3": "from otter.test_files import test_case\n\nOK_FORMAT = False\n\nname = \"q3\"\npoints = None\n\n@test_case(points=None, hidden=False)\ndef test1_getbookspricebonus(getbookspricebonus):\n    import numpy as np\n    from numpy.testing import assert_array_equal\n    \n    q3CORRECT_ANS = np.loadtxt('solutionq3.txt')\n    q3STUDENT_ANS = getbookspricebonus()\n    \n    assert type(q3STUDENT_ANS) is np.ndarray, f\"Error: Your solution returned a {type(q3STUDENT_ANS)}, while it should return a numpy Array\"\n    assert_array_equal(q3STUDENT_ANS, q3CORRECT_ANS)\n\n"
      }
    },
    "colab": {
      "provenance": [],
      "toc_visible": true
    }
  },
  "nbformat": 4,
  "nbformat_minor": 0
}