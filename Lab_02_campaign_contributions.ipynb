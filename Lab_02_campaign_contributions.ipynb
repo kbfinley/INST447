{
  "cells": [
    {
      "cell_type": "markdown",
      "id": "pvHJtgGeu5dg",
      "metadata": {
        "id": "pvHJtgGeu5dg"
      },
      "source": [
        "# LAB 2:  Campaign Financial Contributions [Total: 8 points]\n",
        "\n",
        "## Instructions\n",
        "\n",
        "The purpose of this assignment is for you to engage with a concrete data cleaning task. This will be accomplished through a coding assignment. You will carry out this task in the present notebook, and use the notebook to document the various steps of the exercise and to answer all questions.\n",
        "\n",
        "In particular, we will be cleaning up some campaign donation data. The DC government makes data about campaign contribution (i.e. donations) available online to the general public on its website [opendata.dc.gov](https://opendata.dc.gov). The website does not provide very much documentation about the data.\n",
        "\n",
        "We have created a smaller sample (`Campaign_Financial_Contributions_Sample.csv`) of this data for you to explore and clean. Follow the instructions in each question, and answer the accompanying questions. Note that some of the questions will require you to write a Python function to compute the correct answer.\n"
      ]
    },
    {
      "cell_type": "markdown",
      "id": "Yj1X4MHSvrQ9",
      "metadata": {
        "id": "Yj1X4MHSvrQ9"
      },
      "source": [
        "## Important Warning\n",
        "* Please ensure that you run the cell below before running any others. This will download all required files and packages, as well as installing the necessary packages to ensure the code runs successfully. If you restart the kernel or your runtime session (in Colab), be sure to rerun this cell before running any others.\n",
        "* This assignment recommends using **Google Colab**. If you are using Anaconda Jupyter notebook/lab, please ensure that **this notebook is kept in a new folder**. This is because the following commands will delete all files with the extensions .csv and .py before downloading the required files."
      ]
    },
    {
      "cell_type": "code",
      "execution_count": 1,
      "id": "sCYxeAMxwMCD",
      "metadata": {
        "colab": {
          "base_uri": "https://localhost:8080/"
        },
        "id": "sCYxeAMxwMCD",
        "outputId": "8f69ec85-2b03-4c42-d7ec-691e56966eb5"
      },
      "outputs": [
        {
          "name": "stdout",
          "output_type": "stream",
          "text": [
            "zsh:1: no matches found: *.csv\n",
            "--2024-10-04 10:26:33--  https://github.com/mainuddin-rony/inst447-fall2024/raw/main/assignment/lab/lab2/required_files.zip\n",
            "Resolving github.com (github.com)... 140.82.114.3\n",
            "Connecting to github.com (github.com)|140.82.114.3|:443... connected.\n",
            "HTTP request sent, awaiting response... 302 Found\n",
            "Location: https://raw.githubusercontent.com/mainuddin-rony/inst447-fall2024/main/assignment/lab/lab2/required_files.zip [following]\n",
            "--2024-10-04 10:26:33--  https://raw.githubusercontent.com/mainuddin-rony/inst447-fall2024/main/assignment/lab/lab2/required_files.zip\n",
            "Resolving raw.githubusercontent.com (raw.githubusercontent.com)... 185.199.109.133, 185.199.110.133, 185.199.108.133, ...\n",
            "Connecting to raw.githubusercontent.com (raw.githubusercontent.com)|185.199.109.133|:443... connected.\n",
            "HTTP request sent, awaiting response... 200 OK\n",
            "Length: 80959 (79K) [application/zip]\n",
            "Saving to: ‘required_files.zip’\n",
            "\n",
            "required_files.zip  100%[===================>]  79.06K  --.-KB/s    in 0.03s   \n",
            "\n",
            "2024-10-04 10:26:34 (2.53 MB/s) - ‘required_files.zip’ saved [80959/80959]\n",
            "\n",
            "Archive:  required_files.zip\n",
            "  inflating: q5.py                   \n",
            "  inflating: q4.py                   \n",
            "  inflating: q7.py                   \n",
            "  inflating: q6.py                   \n",
            "  inflating: q2.py                   \n",
            "  inflating: Campaign_Financial_Contributions_Sample.csv  \n",
            "  inflating: ._Campaign_Financial_Contributions_Sample.csv  \n",
            "Requirement already satisfied: otter-grader==5.5.0 in /opt/anaconda3/lib/python3.12/site-packages (5.5.0)\n",
            "Requirement already satisfied: dill in /opt/anaconda3/lib/python3.12/site-packages (from otter-grader==5.5.0) (0.3.8)\n",
            "Requirement already satisfied: jinja2 in /opt/anaconda3/lib/python3.12/site-packages (from otter-grader==5.5.0) (3.1.4)\n",
            "Requirement already satisfied: nbformat in /opt/anaconda3/lib/python3.12/site-packages (from otter-grader==5.5.0) (5.9.2)\n",
            "Requirement already satisfied: pandas in /opt/anaconda3/lib/python3.12/site-packages (from otter-grader==5.5.0) (2.2.2)\n",
            "Requirement already satisfied: PyYAML in /opt/anaconda3/lib/python3.12/site-packages (from otter-grader==5.5.0) (6.0.1)\n",
            "Requirement already satisfied: python-on-whales in /opt/anaconda3/lib/python3.12/site-packages (from otter-grader==5.5.0) (0.72.0)\n",
            "Requirement already satisfied: requests in /opt/anaconda3/lib/python3.12/site-packages (from otter-grader==5.5.0) (2.32.2)\n",
            "Requirement already satisfied: wrapt in /opt/anaconda3/lib/python3.12/site-packages (from otter-grader==5.5.0) (1.14.1)\n",
            "Requirement already satisfied: jupytext in /opt/anaconda3/lib/python3.12/site-packages (from otter-grader==5.5.0) (1.16.4)\n",
            "Requirement already satisfied: click in /opt/anaconda3/lib/python3.12/site-packages (from otter-grader==5.5.0) (8.1.7)\n",
            "Requirement already satisfied: fica>=0.3.1 in /opt/anaconda3/lib/python3.12/site-packages (from otter-grader==5.5.0) (0.3.1)\n",
            "Requirement already satisfied: ipython in /opt/anaconda3/lib/python3.12/site-packages (from otter-grader==5.5.0) (8.25.0)\n",
            "Requirement already satisfied: astunparse in /opt/anaconda3/lib/python3.12/site-packages (from otter-grader==5.5.0) (1.6.3)\n",
            "Requirement already satisfied: ipywidgets in /opt/anaconda3/lib/python3.12/site-packages (from otter-grader==5.5.0) (7.8.1)\n",
            "Requirement already satisfied: ipylab in /opt/anaconda3/lib/python3.12/site-packages (from otter-grader==5.5.0) (1.0.0)\n",
            "Requirement already satisfied: nbconvert in /opt/anaconda3/lib/python3.12/site-packages (from otter-grader==5.5.0) (7.10.0)\n",
            "Requirement already satisfied: docutils in /opt/anaconda3/lib/python3.12/site-packages (from fica>=0.3.1->otter-grader==5.5.0) (0.18.1)\n",
            "Requirement already satisfied: sphinx in /opt/anaconda3/lib/python3.12/site-packages (from fica>=0.3.1->otter-grader==5.5.0) (7.3.7)\n",
            "Requirement already satisfied: wheel<1.0,>=0.23.0 in /opt/anaconda3/lib/python3.12/site-packages (from astunparse->otter-grader==5.5.0) (0.43.0)\n",
            "Requirement already satisfied: six<2.0,>=1.6.1 in /opt/anaconda3/lib/python3.12/site-packages (from astunparse->otter-grader==5.5.0) (1.16.0)\n",
            "Requirement already satisfied: comm>=0.1.3 in /opt/anaconda3/lib/python3.12/site-packages (from ipywidgets->otter-grader==5.5.0) (0.2.1)\n",
            "Requirement already satisfied: ipython-genutils~=0.2.0 in /opt/anaconda3/lib/python3.12/site-packages (from ipywidgets->otter-grader==5.5.0) (0.2.0)\n",
            "Requirement already satisfied: traitlets>=4.3.1 in /opt/anaconda3/lib/python3.12/site-packages (from ipywidgets->otter-grader==5.5.0) (5.14.3)\n",
            "Requirement already satisfied: widgetsnbextension~=3.6.6 in /opt/anaconda3/lib/python3.12/site-packages (from ipywidgets->otter-grader==5.5.0) (3.6.6)\n",
            "Requirement already satisfied: jupyterlab-widgets<3,>=1.0.0 in /opt/anaconda3/lib/python3.12/site-packages (from ipywidgets->otter-grader==5.5.0) (1.0.0)\n",
            "Requirement already satisfied: decorator in /opt/anaconda3/lib/python3.12/site-packages (from ipython->otter-grader==5.5.0) (5.1.1)\n",
            "Requirement already satisfied: jedi>=0.16 in /opt/anaconda3/lib/python3.12/site-packages (from ipython->otter-grader==5.5.0) (0.18.1)\n",
            "Requirement already satisfied: matplotlib-inline in /opt/anaconda3/lib/python3.12/site-packages (from ipython->otter-grader==5.5.0) (0.1.6)\n",
            "Requirement already satisfied: prompt-toolkit<3.1.0,>=3.0.41 in /opt/anaconda3/lib/python3.12/site-packages (from ipython->otter-grader==5.5.0) (3.0.43)\n",
            "Requirement already satisfied: pygments>=2.4.0 in /opt/anaconda3/lib/python3.12/site-packages (from ipython->otter-grader==5.5.0) (2.15.1)\n",
            "Requirement already satisfied: stack-data in /opt/anaconda3/lib/python3.12/site-packages (from ipython->otter-grader==5.5.0) (0.2.0)\n",
            "Requirement already satisfied: pexpect>4.3 in /opt/anaconda3/lib/python3.12/site-packages (from ipython->otter-grader==5.5.0) (4.8.0)\n",
            "Requirement already satisfied: MarkupSafe>=2.0 in /opt/anaconda3/lib/python3.12/site-packages (from jinja2->otter-grader==5.5.0) (2.1.3)\n",
            "Requirement already satisfied: markdown-it-py>=1.0 in /opt/anaconda3/lib/python3.12/site-packages (from jupytext->otter-grader==5.5.0) (2.2.0)\n",
            "Requirement already satisfied: mdit-py-plugins in /opt/anaconda3/lib/python3.12/site-packages (from jupytext->otter-grader==5.5.0) (0.3.0)\n",
            "Requirement already satisfied: packaging in /opt/anaconda3/lib/python3.12/site-packages (from jupytext->otter-grader==5.5.0) (23.2)\n",
            "Requirement already satisfied: beautifulsoup4 in /opt/anaconda3/lib/python3.12/site-packages (from nbconvert->otter-grader==5.5.0) (4.12.3)\n",
            "Requirement already satisfied: bleach!=5.0.0 in /opt/anaconda3/lib/python3.12/site-packages (from nbconvert->otter-grader==5.5.0) (4.1.0)\n",
            "Requirement already satisfied: defusedxml in /opt/anaconda3/lib/python3.12/site-packages (from nbconvert->otter-grader==5.5.0) (0.7.1)\n",
            "Requirement already satisfied: jupyter-core>=4.7 in /opt/anaconda3/lib/python3.12/site-packages (from nbconvert->otter-grader==5.5.0) (5.7.2)\n",
            "Requirement already satisfied: jupyterlab-pygments in /opt/anaconda3/lib/python3.12/site-packages (from nbconvert->otter-grader==5.5.0) (0.1.2)\n",
            "Requirement already satisfied: mistune<4,>=2.0.3 in /opt/anaconda3/lib/python3.12/site-packages (from nbconvert->otter-grader==5.5.0) (2.0.4)\n",
            "Requirement already satisfied: nbclient>=0.5.0 in /opt/anaconda3/lib/python3.12/site-packages (from nbconvert->otter-grader==5.5.0) (0.8.0)\n",
            "Requirement already satisfied: pandocfilters>=1.4.1 in /opt/anaconda3/lib/python3.12/site-packages (from nbconvert->otter-grader==5.5.0) (1.5.0)\n",
            "Requirement already satisfied: tinycss2 in /opt/anaconda3/lib/python3.12/site-packages (from nbconvert->otter-grader==5.5.0) (1.2.1)\n",
            "Requirement already satisfied: fastjsonschema in /opt/anaconda3/lib/python3.12/site-packages (from nbformat->otter-grader==5.5.0) (2.16.2)\n",
            "Requirement already satisfied: jsonschema>=2.6 in /opt/anaconda3/lib/python3.12/site-packages (from nbformat->otter-grader==5.5.0) (4.19.2)\n",
            "Requirement already satisfied: numpy>=1.26.0 in /opt/anaconda3/lib/python3.12/site-packages (from pandas->otter-grader==5.5.0) (1.26.4)\n",
            "Requirement already satisfied: python-dateutil>=2.8.2 in /opt/anaconda3/lib/python3.12/site-packages (from pandas->otter-grader==5.5.0) (2.9.0.post0)\n",
            "Requirement already satisfied: pytz>=2020.1 in /opt/anaconda3/lib/python3.12/site-packages (from pandas->otter-grader==5.5.0) (2024.1)\n",
            "Requirement already satisfied: tzdata>=2022.7 in /opt/anaconda3/lib/python3.12/site-packages (from pandas->otter-grader==5.5.0) (2023.3)\n",
            "Requirement already satisfied: pydantic!=2.0.*,<3,>=1.9 in /opt/anaconda3/lib/python3.12/site-packages (from python-on-whales->otter-grader==5.5.0) (2.5.3)\n",
            "Requirement already satisfied: tqdm in /opt/anaconda3/lib/python3.12/site-packages (from python-on-whales->otter-grader==5.5.0) (4.66.4)\n",
            "Requirement already satisfied: typer>=0.4.1 in /opt/anaconda3/lib/python3.12/site-packages (from python-on-whales->otter-grader==5.5.0) (0.12.5)\n",
            "Requirement already satisfied: typing-extensions in /opt/anaconda3/lib/python3.12/site-packages (from python-on-whales->otter-grader==5.5.0) (4.11.0)\n",
            "Requirement already satisfied: charset-normalizer<4,>=2 in /opt/anaconda3/lib/python3.12/site-packages (from requests->otter-grader==5.5.0) (2.0.4)\n",
            "Requirement already satisfied: idna<4,>=2.5 in /opt/anaconda3/lib/python3.12/site-packages (from requests->otter-grader==5.5.0) (3.7)\n",
            "Requirement already satisfied: urllib3<3,>=1.21.1 in /opt/anaconda3/lib/python3.12/site-packages (from requests->otter-grader==5.5.0) (2.2.2)\n",
            "Requirement already satisfied: certifi>=2017.4.17 in /opt/anaconda3/lib/python3.12/site-packages (from requests->otter-grader==5.5.0) (2024.7.4)\n",
            "Requirement already satisfied: webencodings in /opt/anaconda3/lib/python3.12/site-packages (from bleach!=5.0.0->nbconvert->otter-grader==5.5.0) (0.5.1)\n",
            "Requirement already satisfied: parso<0.9.0,>=0.8.0 in /opt/anaconda3/lib/python3.12/site-packages (from jedi>=0.16->ipython->otter-grader==5.5.0) (0.8.3)\n",
            "Requirement already satisfied: attrs>=22.2.0 in /opt/anaconda3/lib/python3.12/site-packages (from jsonschema>=2.6->nbformat->otter-grader==5.5.0) (23.1.0)\n",
            "Requirement already satisfied: jsonschema-specifications>=2023.03.6 in /opt/anaconda3/lib/python3.12/site-packages (from jsonschema>=2.6->nbformat->otter-grader==5.5.0) (2023.7.1)\n",
            "Requirement already satisfied: referencing>=0.28.4 in /opt/anaconda3/lib/python3.12/site-packages (from jsonschema>=2.6->nbformat->otter-grader==5.5.0) (0.30.2)\n",
            "Requirement already satisfied: rpds-py>=0.7.1 in /opt/anaconda3/lib/python3.12/site-packages (from jsonschema>=2.6->nbformat->otter-grader==5.5.0) (0.10.6)\n",
            "Requirement already satisfied: platformdirs>=2.5 in /opt/anaconda3/lib/python3.12/site-packages (from jupyter-core>=4.7->nbconvert->otter-grader==5.5.0) (3.10.0)\n",
            "Requirement already satisfied: mdurl~=0.1 in /opt/anaconda3/lib/python3.12/site-packages (from markdown-it-py>=1.0->jupytext->otter-grader==5.5.0) (0.1.0)\n",
            "Requirement already satisfied: jupyter-client>=6.1.12 in /opt/anaconda3/lib/python3.12/site-packages (from nbclient>=0.5.0->nbconvert->otter-grader==5.5.0) (8.6.0)\n",
            "Requirement already satisfied: ptyprocess>=0.5 in /opt/anaconda3/lib/python3.12/site-packages (from pexpect>4.3->ipython->otter-grader==5.5.0) (0.7.0)\n",
            "Requirement already satisfied: wcwidth in /opt/anaconda3/lib/python3.12/site-packages (from prompt-toolkit<3.1.0,>=3.0.41->ipython->otter-grader==5.5.0) (0.2.5)\n",
            "Requirement already satisfied: annotated-types>=0.4.0 in /opt/anaconda3/lib/python3.12/site-packages (from pydantic!=2.0.*,<3,>=1.9->python-on-whales->otter-grader==5.5.0) (0.6.0)\n",
            "Requirement already satisfied: pydantic-core==2.14.6 in /opt/anaconda3/lib/python3.12/site-packages (from pydantic!=2.0.*,<3,>=1.9->python-on-whales->otter-grader==5.5.0) (2.14.6)\n",
            "Requirement already satisfied: shellingham>=1.3.0 in /opt/anaconda3/lib/python3.12/site-packages (from typer>=0.4.1->python-on-whales->otter-grader==5.5.0) (1.5.4)\n",
            "Requirement already satisfied: rich>=10.11.0 in /opt/anaconda3/lib/python3.12/site-packages (from typer>=0.4.1->python-on-whales->otter-grader==5.5.0) (13.3.5)\n",
            "Requirement already satisfied: notebook>=4.4.1 in /opt/anaconda3/lib/python3.12/site-packages (from widgetsnbextension~=3.6.6->ipywidgets->otter-grader==5.5.0) (7.0.8)\n",
            "Requirement already satisfied: soupsieve>1.2 in /opt/anaconda3/lib/python3.12/site-packages (from beautifulsoup4->nbconvert->otter-grader==5.5.0) (2.5)\n",
            "Requirement already satisfied: sphinxcontrib-applehelp in /opt/anaconda3/lib/python3.12/site-packages (from sphinx->fica>=0.3.1->otter-grader==5.5.0) (1.0.2)\n",
            "Requirement already satisfied: sphinxcontrib-devhelp in /opt/anaconda3/lib/python3.12/site-packages (from sphinx->fica>=0.3.1->otter-grader==5.5.0) (1.0.2)\n",
            "Requirement already satisfied: sphinxcontrib-jsmath in /opt/anaconda3/lib/python3.12/site-packages (from sphinx->fica>=0.3.1->otter-grader==5.5.0) (1.0.1)\n",
            "Requirement already satisfied: sphinxcontrib-htmlhelp>=2.0.0 in /opt/anaconda3/lib/python3.12/site-packages (from sphinx->fica>=0.3.1->otter-grader==5.5.0) (2.0.0)\n",
            "Requirement already satisfied: sphinxcontrib-serializinghtml>=1.1.9 in /opt/anaconda3/lib/python3.12/site-packages (from sphinx->fica>=0.3.1->otter-grader==5.5.0) (1.1.10)\n",
            "Requirement already satisfied: sphinxcontrib-qthelp in /opt/anaconda3/lib/python3.12/site-packages (from sphinx->fica>=0.3.1->otter-grader==5.5.0) (1.0.3)\n",
            "Requirement already satisfied: snowballstemmer>=2.0 in /opt/anaconda3/lib/python3.12/site-packages (from sphinx->fica>=0.3.1->otter-grader==5.5.0) (2.2.0)\n",
            "Requirement already satisfied: babel>=2.9 in /opt/anaconda3/lib/python3.12/site-packages (from sphinx->fica>=0.3.1->otter-grader==5.5.0) (2.11.0)\n",
            "Requirement already satisfied: alabaster~=0.7.14 in /opt/anaconda3/lib/python3.12/site-packages (from sphinx->fica>=0.3.1->otter-grader==5.5.0) (0.7.16)\n",
            "Requirement already satisfied: imagesize>=1.3 in /opt/anaconda3/lib/python3.12/site-packages (from sphinx->fica>=0.3.1->otter-grader==5.5.0) (1.4.1)\n",
            "Requirement already satisfied: executing in /opt/anaconda3/lib/python3.12/site-packages (from stack-data->ipython->otter-grader==5.5.0) (0.8.3)\n",
            "Requirement already satisfied: asttokens in /opt/anaconda3/lib/python3.12/site-packages (from stack-data->ipython->otter-grader==5.5.0) (2.0.5)\n",
            "Requirement already satisfied: pure-eval in /opt/anaconda3/lib/python3.12/site-packages (from stack-data->ipython->otter-grader==5.5.0) (0.2.2)\n",
            "Requirement already satisfied: pyzmq>=23.0 in /opt/anaconda3/lib/python3.12/site-packages (from jupyter-client>=6.1.12->nbclient>=0.5.0->nbconvert->otter-grader==5.5.0) (25.1.2)\n",
            "Requirement already satisfied: tornado>=6.2 in /opt/anaconda3/lib/python3.12/site-packages (from jupyter-client>=6.1.12->nbclient>=0.5.0->nbconvert->otter-grader==5.5.0) (6.4.1)\n",
            "Requirement already satisfied: jupyter-server<3,>=2.4.0 in /opt/anaconda3/lib/python3.12/site-packages (from notebook>=4.4.1->widgetsnbextension~=3.6.6->ipywidgets->otter-grader==5.5.0) (2.14.1)\n",
            "Requirement already satisfied: jupyterlab-server<3,>=2.22.1 in /opt/anaconda3/lib/python3.12/site-packages (from notebook>=4.4.1->widgetsnbextension~=3.6.6->ipywidgets->otter-grader==5.5.0) (2.25.1)\n",
            "Requirement already satisfied: jupyterlab<4.1,>=4.0.2 in /opt/anaconda3/lib/python3.12/site-packages (from notebook>=4.4.1->widgetsnbextension~=3.6.6->ipywidgets->otter-grader==5.5.0) (4.0.11)\n",
            "Requirement already satisfied: notebook-shim<0.3,>=0.2 in /opt/anaconda3/lib/python3.12/site-packages (from notebook>=4.4.1->widgetsnbextension~=3.6.6->ipywidgets->otter-grader==5.5.0) (0.2.3)\n",
            "Requirement already satisfied: anyio>=3.1.0 in /opt/anaconda3/lib/python3.12/site-packages (from jupyter-server<3,>=2.4.0->notebook>=4.4.1->widgetsnbextension~=3.6.6->ipywidgets->otter-grader==5.5.0) (4.2.0)\n",
            "Requirement already satisfied: argon2-cffi>=21.1 in /opt/anaconda3/lib/python3.12/site-packages (from jupyter-server<3,>=2.4.0->notebook>=4.4.1->widgetsnbextension~=3.6.6->ipywidgets->otter-grader==5.5.0) (21.3.0)\n",
            "Requirement already satisfied: jupyter-events>=0.9.0 in /opt/anaconda3/lib/python3.12/site-packages (from jupyter-server<3,>=2.4.0->notebook>=4.4.1->widgetsnbextension~=3.6.6->ipywidgets->otter-grader==5.5.0) (0.10.0)\n",
            "Requirement already satisfied: jupyter-server-terminals>=0.4.4 in /opt/anaconda3/lib/python3.12/site-packages (from jupyter-server<3,>=2.4.0->notebook>=4.4.1->widgetsnbextension~=3.6.6->ipywidgets->otter-grader==5.5.0) (0.4.4)\n",
            "Requirement already satisfied: overrides>=5.0 in /opt/anaconda3/lib/python3.12/site-packages (from jupyter-server<3,>=2.4.0->notebook>=4.4.1->widgetsnbextension~=3.6.6->ipywidgets->otter-grader==5.5.0) (7.4.0)\n",
            "Requirement already satisfied: prometheus-client>=0.9 in /opt/anaconda3/lib/python3.12/site-packages (from jupyter-server<3,>=2.4.0->notebook>=4.4.1->widgetsnbextension~=3.6.6->ipywidgets->otter-grader==5.5.0) (0.14.1)\n",
            "Requirement already satisfied: send2trash>=1.8.2 in /opt/anaconda3/lib/python3.12/site-packages (from jupyter-server<3,>=2.4.0->notebook>=4.4.1->widgetsnbextension~=3.6.6->ipywidgets->otter-grader==5.5.0) (1.8.2)\n",
            "Requirement already satisfied: terminado>=0.8.3 in /opt/anaconda3/lib/python3.12/site-packages (from jupyter-server<3,>=2.4.0->notebook>=4.4.1->widgetsnbextension~=3.6.6->ipywidgets->otter-grader==5.5.0) (0.17.1)\n",
            "Requirement already satisfied: websocket-client>=1.7 in /opt/anaconda3/lib/python3.12/site-packages (from jupyter-server<3,>=2.4.0->notebook>=4.4.1->widgetsnbextension~=3.6.6->ipywidgets->otter-grader==5.5.0) (1.8.0)\n",
            "Requirement already satisfied: async-lru>=1.0.0 in /opt/anaconda3/lib/python3.12/site-packages (from jupyterlab<4.1,>=4.0.2->notebook>=4.4.1->widgetsnbextension~=3.6.6->ipywidgets->otter-grader==5.5.0) (2.0.4)\n",
            "Requirement already satisfied: ipykernel in /opt/anaconda3/lib/python3.12/site-packages (from jupyterlab<4.1,>=4.0.2->notebook>=4.4.1->widgetsnbextension~=3.6.6->ipywidgets->otter-grader==5.5.0) (6.28.0)\n",
            "Requirement already satisfied: jupyter-lsp>=2.0.0 in /opt/anaconda3/lib/python3.12/site-packages (from jupyterlab<4.1,>=4.0.2->notebook>=4.4.1->widgetsnbextension~=3.6.6->ipywidgets->otter-grader==5.5.0) (2.2.0)\n",
            "Requirement already satisfied: json5>=0.9.0 in /opt/anaconda3/lib/python3.12/site-packages (from jupyterlab-server<3,>=2.22.1->notebook>=4.4.1->widgetsnbextension~=3.6.6->ipywidgets->otter-grader==5.5.0) (0.9.6)\n",
            "Requirement already satisfied: sniffio>=1.1 in /opt/anaconda3/lib/python3.12/site-packages (from anyio>=3.1.0->jupyter-server<3,>=2.4.0->notebook>=4.4.1->widgetsnbextension~=3.6.6->ipywidgets->otter-grader==5.5.0) (1.3.0)\n",
            "Requirement already satisfied: argon2-cffi-bindings in /opt/anaconda3/lib/python3.12/site-packages (from argon2-cffi>=21.1->jupyter-server<3,>=2.4.0->notebook>=4.4.1->widgetsnbextension~=3.6.6->ipywidgets->otter-grader==5.5.0) (21.2.0)\n",
            "Requirement already satisfied: python-json-logger>=2.0.4 in /opt/anaconda3/lib/python3.12/site-packages (from jupyter-events>=0.9.0->jupyter-server<3,>=2.4.0->notebook>=4.4.1->widgetsnbextension~=3.6.6->ipywidgets->otter-grader==5.5.0) (2.0.7)\n",
            "Requirement already satisfied: rfc3339-validator in /opt/anaconda3/lib/python3.12/site-packages (from jupyter-events>=0.9.0->jupyter-server<3,>=2.4.0->notebook>=4.4.1->widgetsnbextension~=3.6.6->ipywidgets->otter-grader==5.5.0) (0.1.4)\n",
            "Requirement already satisfied: rfc3986-validator>=0.1.1 in /opt/anaconda3/lib/python3.12/site-packages (from jupyter-events>=0.9.0->jupyter-server<3,>=2.4.0->notebook>=4.4.1->widgetsnbextension~=3.6.6->ipywidgets->otter-grader==5.5.0) (0.1.1)\n",
            "Requirement already satisfied: appnope in /opt/anaconda3/lib/python3.12/site-packages (from ipykernel->jupyterlab<4.1,>=4.0.2->notebook>=4.4.1->widgetsnbextension~=3.6.6->ipywidgets->otter-grader==5.5.0) (0.1.3)\n",
            "Requirement already satisfied: debugpy>=1.6.5 in /opt/anaconda3/lib/python3.12/site-packages (from ipykernel->jupyterlab<4.1,>=4.0.2->notebook>=4.4.1->widgetsnbextension~=3.6.6->ipywidgets->otter-grader==5.5.0) (1.6.7)\n",
            "Requirement already satisfied: nest-asyncio in /opt/anaconda3/lib/python3.12/site-packages (from ipykernel->jupyterlab<4.1,>=4.0.2->notebook>=4.4.1->widgetsnbextension~=3.6.6->ipywidgets->otter-grader==5.5.0) (1.6.0)\n",
            "Requirement already satisfied: psutil in /opt/anaconda3/lib/python3.12/site-packages (from ipykernel->jupyterlab<4.1,>=4.0.2->notebook>=4.4.1->widgetsnbextension~=3.6.6->ipywidgets->otter-grader==5.5.0) (5.9.0)\n",
            "Requirement already satisfied: fqdn in /opt/anaconda3/lib/python3.12/site-packages (from jsonschema[format-nongpl]>=4.18.0->jupyter-events>=0.9.0->jupyter-server<3,>=2.4.0->notebook>=4.4.1->widgetsnbextension~=3.6.6->ipywidgets->otter-grader==5.5.0) (1.5.1)\n",
            "Requirement already satisfied: isoduration in /opt/anaconda3/lib/python3.12/site-packages (from jsonschema[format-nongpl]>=4.18.0->jupyter-events>=0.9.0->jupyter-server<3,>=2.4.0->notebook>=4.4.1->widgetsnbextension~=3.6.6->ipywidgets->otter-grader==5.5.0) (20.11.0)\n",
            "Requirement already satisfied: jsonpointer>1.13 in /opt/anaconda3/lib/python3.12/site-packages (from jsonschema[format-nongpl]>=4.18.0->jupyter-events>=0.9.0->jupyter-server<3,>=2.4.0->notebook>=4.4.1->widgetsnbextension~=3.6.6->ipywidgets->otter-grader==5.5.0) (2.1)\n",
            "Requirement already satisfied: uri-template in /opt/anaconda3/lib/python3.12/site-packages (from jsonschema[format-nongpl]>=4.18.0->jupyter-events>=0.9.0->jupyter-server<3,>=2.4.0->notebook>=4.4.1->widgetsnbextension~=3.6.6->ipywidgets->otter-grader==5.5.0) (1.3.0)\n",
            "Requirement already satisfied: webcolors>=1.11 in /opt/anaconda3/lib/python3.12/site-packages (from jsonschema[format-nongpl]>=4.18.0->jupyter-events>=0.9.0->jupyter-server<3,>=2.4.0->notebook>=4.4.1->widgetsnbextension~=3.6.6->ipywidgets->otter-grader==5.5.0) (24.8.0)\n",
            "Requirement already satisfied: cffi>=1.0.1 in /opt/anaconda3/lib/python3.12/site-packages (from argon2-cffi-bindings->argon2-cffi>=21.1->jupyter-server<3,>=2.4.0->notebook>=4.4.1->widgetsnbextension~=3.6.6->ipywidgets->otter-grader==5.5.0) (1.16.0)\n",
            "Requirement already satisfied: pycparser in /opt/anaconda3/lib/python3.12/site-packages (from cffi>=1.0.1->argon2-cffi-bindings->argon2-cffi>=21.1->jupyter-server<3,>=2.4.0->notebook>=4.4.1->widgetsnbextension~=3.6.6->ipywidgets->otter-grader==5.5.0) (2.21)\n",
            "Requirement already satisfied: arrow>=0.15.0 in /opt/anaconda3/lib/python3.12/site-packages (from isoduration->jsonschema[format-nongpl]>=4.18.0->jupyter-events>=0.9.0->jupyter-server<3,>=2.4.0->notebook>=4.4.1->widgetsnbextension~=3.6.6->ipywidgets->otter-grader==5.5.0) (1.2.3)\n"
          ]
        }
      ],
      "source": [
        "required_files = \"https://github.com/mainuddin-rony/inst447-fall2024/raw/main/assignment/lab/lab2/required_files.zip\"\n",
        "! rm -rf tests\n",
        "! rm -f required_files.zip *.csv *.py\n",
        "! wget $required_files && unzip -j required_files.zip\n",
        "! mkdir tests && mv *.py tests\n",
        "! pip install otter-grader==5.5.0"
      ]
    },
    {
      "cell_type": "code",
      "execution_count": 2,
      "id": "c0ffd48d",
      "metadata": {
        "id": "c0ffd48d"
      },
      "outputs": [],
      "source": [
        "# Initialize Otter\n",
        "import otter\n",
        "grader = otter.Notebook()"
      ]
    },
    {
      "cell_type": "code",
      "execution_count": 3,
      "id": "eUIAPF_dv3tE",
      "metadata": {
        "id": "eUIAPF_dv3tE"
      },
      "outputs": [],
      "source": [
        "import pandas as pd"
      ]
    },
    {
      "cell_type": "markdown",
      "id": "332910f1",
      "metadata": {
        "id": "332910f1"
      },
      "source": [
        "# Part A: Inspecting the data frame\n",
        "\n",
        "The first set of questions will ask you to inspect the data. Feel free to add new code cells and make sure to comment your code with markdown cells to describe your process of reaching the answer."
      ]
    },
    {
      "cell_type": "markdown",
      "id": "f16d1ab8",
      "metadata": {
        "id": "f16d1ab8"
      },
      "source": [
        "## Q1 (Manual Grading)\n",
        "\n",
        "**Points:** 1\n",
        "\n",
        "**Question:** Read the sample campaign contribution data into a pandas data frame. Inspect the columns and cells of the data set. What is most likely the column name of the variable which has the method of payment in which the donation/contribution was made?\n",
        "\n",
        "1. `GIS_LAST_MOD_DTTM`\n",
        "\n",
        "2. `DATEOFRECEIPT`\n",
        "\n",
        "3. `CONTRIBUTIONTYPE`\n",
        "\n",
        "Write down the correct answer in the following cell."
      ]
    },
    {
      "cell_type": "markdown",
      "id": "7cf2cdbc",
      "metadata": {
        "id": "7cf2cdbc"
      },
      "source": [
        "**`CONTRIBUTIONTYPE`**"
      ]
    },
    {
      "cell_type": "code",
      "execution_count": 4,
      "id": "burUNZ-bv0gK",
      "metadata": {
        "colab": {
          "base_uri": "https://localhost:8080/",
          "height": 550
        },
        "id": "burUNZ-bv0gK",
        "outputId": "efe22fc1-e2e1-41b3-d27b-5e9952f60440"
      },
      "outputs": [
        {
          "data": {
            "text/html": [
              "<div>\n",
              "<style scoped>\n",
              "    .dataframe tbody tr th:only-of-type {\n",
              "        vertical-align: middle;\n",
              "    }\n",
              "\n",
              "    .dataframe tbody tr th {\n",
              "        vertical-align: top;\n",
              "    }\n",
              "\n",
              "    .dataframe thead th {\n",
              "        text-align: right;\n",
              "    }\n",
              "</style>\n",
              "<table border=\"1\" class=\"dataframe\">\n",
              "  <thead>\n",
              "    <tr style=\"text-align: right;\">\n",
              "      <th></th>\n",
              "      <th>Unnamed: 0</th>\n",
              "      <th>OBJECTID</th>\n",
              "      <th>COMMITTEENAME</th>\n",
              "      <th>CANDIDATENAME</th>\n",
              "      <th>ELECTIONYEAR</th>\n",
              "      <th>CONTRIBUTORNAME</th>\n",
              "      <th>ADDRESS</th>\n",
              "      <th>CONTRIBUTORTYPE</th>\n",
              "      <th>CONTRIBUTIONTYPE</th>\n",
              "      <th>EMPLOYER</th>\n",
              "      <th>...</th>\n",
              "      <th>Unnamed: 31</th>\n",
              "      <th>Unnamed: 32</th>\n",
              "      <th>Unnamed: 33</th>\n",
              "      <th>Unnamed: 34</th>\n",
              "      <th>Unnamed: 35</th>\n",
              "      <th>Unnamed: 36</th>\n",
              "      <th>Unnamed: 37</th>\n",
              "      <th>Unnamed: 38</th>\n",
              "      <th>Unnamed: 39</th>\n",
              "      <th>Unnamed: 40</th>\n",
              "    </tr>\n",
              "  </thead>\n",
              "  <tbody>\n",
              "    <tr>\n",
              "      <th>0</th>\n",
              "      <td>205514</td>\n",
              "      <td>205514</td>\n",
              "      <td>Fenty 2006</td>\n",
              "      <td>Adrian Fenty</td>\n",
              "      <td>2006</td>\n",
              "      <td>Stefon  Brathwaite</td>\n",
              "      <td>2141 I St NW, Washington, DC 20037</td>\n",
              "      <td>Individual</td>\n",
              "      <td>Check</td>\n",
              "      <td>Self</td>\n",
              "      <td>...</td>\n",
              "      <td>NaN</td>\n",
              "      <td>NaN</td>\n",
              "      <td>NaN</td>\n",
              "      <td>NaN</td>\n",
              "      <td>NaN</td>\n",
              "      <td>NaN</td>\n",
              "      <td>NaN</td>\n",
              "      <td>NaN</td>\n",
              "      <td>NaN</td>\n",
              "      <td>NaN</td>\n",
              "    </tr>\n",
              "    <tr>\n",
              "      <th>1</th>\n",
              "      <td>169351</td>\n",
              "      <td>168351</td>\n",
              "      <td>Muriel Bowser for Mayor</td>\n",
              "      <td>Muriel Bowser</td>\n",
              "      <td>2014</td>\n",
              "      <td>Denise Rollins</td>\n",
              "      <td>3649 11th Street NW, Washington, DC 20010</td>\n",
              "      <td>Individual</td>\n",
              "      <td>Credit Card</td>\n",
              "      <td>US Agency of International Development</td>\n",
              "      <td>...</td>\n",
              "      <td>NaN</td>\n",
              "      <td>NaN</td>\n",
              "      <td>NaN</td>\n",
              "      <td>NaN</td>\n",
              "      <td>NaN</td>\n",
              "      <td>NaN</td>\n",
              "      <td>NaN</td>\n",
              "      <td>NaN</td>\n",
              "      <td>NaN</td>\n",
              "      <td>NaN</td>\n",
              "    </tr>\n",
              "    <tr>\n",
              "      <th>2</th>\n",
              "      <td>129869</td>\n",
              "      <td>129869</td>\n",
              "      <td>Muriel Bowser for Mayor</td>\n",
              "      <td>Muriel Bowser</td>\n",
              "      <td>2014</td>\n",
              "      <td>Antoinette Barksdale</td>\n",
              "      <td>3626 Park Pl NW, Washington, DC 20010</td>\n",
              "      <td>Individual</td>\n",
              "      <td>Check</td>\n",
              "      <td>Dept of Justce</td>\n",
              "      <td>...</td>\n",
              "      <td>NaN</td>\n",
              "      <td>NaN</td>\n",
              "      <td>NaN</td>\n",
              "      <td>NaN</td>\n",
              "      <td>NaN</td>\n",
              "      <td>NaN</td>\n",
              "      <td>NaN</td>\n",
              "      <td>NaN</td>\n",
              "      <td>NaN</td>\n",
              "      <td>NaN</td>\n",
              "    </tr>\n",
              "    <tr>\n",
              "      <th>3</th>\n",
              "      <td>112855</td>\n",
              "      <td>112855</td>\n",
              "      <td>Washington DC Association of Realtors PAC</td>\n",
              "      <td>NaN</td>\n",
              "      <td>2002</td>\n",
              "      <td>Alethea Jordan</td>\n",
              "      <td>5034 Wisconsin Ave NW, Washington, DC 20016</td>\n",
              "      <td>Individual</td>\n",
              "      <td>Check</td>\n",
              "      <td>NaN</td>\n",
              "      <td>...</td>\n",
              "      <td>NaN</td>\n",
              "      <td>NaN</td>\n",
              "      <td>NaN</td>\n",
              "      <td>NaN</td>\n",
              "      <td>NaN</td>\n",
              "      <td>NaN</td>\n",
              "      <td>NaN</td>\n",
              "      <td>NaN</td>\n",
              "      <td>NaN</td>\n",
              "      <td>NaN</td>\n",
              "    </tr>\n",
              "    <tr>\n",
              "      <th>4</th>\n",
              "      <td>88950</td>\n",
              "      <td>88950</td>\n",
              "      <td>Washington DC Association of Realtors PAC</td>\n",
              "      <td>NaN</td>\n",
              "      <td>2002</td>\n",
              "      <td>Matthew Rogers</td>\n",
              "      <td>1506 14th St, NW, Washington, DC 20005</td>\n",
              "      <td>Individual</td>\n",
              "      <td>Check</td>\n",
              "      <td>EASE Property Services</td>\n",
              "      <td>...</td>\n",
              "      <td>NaN</td>\n",
              "      <td>NaN</td>\n",
              "      <td>NaN</td>\n",
              "      <td>NaN</td>\n",
              "      <td>NaN</td>\n",
              "      <td>NaN</td>\n",
              "      <td>NaN</td>\n",
              "      <td>NaN</td>\n",
              "      <td>NaN</td>\n",
              "      <td>NaN</td>\n",
              "    </tr>\n",
              "  </tbody>\n",
              "</table>\n",
              "<p>5 rows × 41 columns</p>\n",
              "</div>"
            ],
            "text/plain": [
              "   Unnamed: 0  OBJECTID                              COMMITTEENAME  \\\n",
              "0      205514    205514                                 Fenty 2006   \n",
              "1      169351    168351                    Muriel Bowser for Mayor   \n",
              "2      129869    129869                    Muriel Bowser for Mayor   \n",
              "3      112855    112855  Washington DC Association of Realtors PAC   \n",
              "4       88950     88950  Washington DC Association of Realtors PAC   \n",
              "\n",
              "   CANDIDATENAME  ELECTIONYEAR       CONTRIBUTORNAME  \\\n",
              "0   Adrian Fenty          2006    Stefon  Brathwaite   \n",
              "1  Muriel Bowser          2014        Denise Rollins   \n",
              "2  Muriel Bowser          2014  Antoinette Barksdale   \n",
              "3            NaN          2002        Alethea Jordan   \n",
              "4            NaN          2002        Matthew Rogers   \n",
              "\n",
              "                                       ADDRESS CONTRIBUTORTYPE  \\\n",
              "0           2141 I St NW, Washington, DC 20037      Individual   \n",
              "1    3649 11th Street NW, Washington, DC 20010      Individual   \n",
              "2        3626 Park Pl NW, Washington, DC 20010      Individual   \n",
              "3  5034 Wisconsin Ave NW, Washington, DC 20016      Individual   \n",
              "4       1506 14th St, NW, Washington, DC 20005      Individual   \n",
              "\n",
              "  CONTRIBUTIONTYPE                                EMPLOYER  ... Unnamed: 31  \\\n",
              "0            Check                                    Self  ...         NaN   \n",
              "1      Credit Card  US Agency of International Development  ...         NaN   \n",
              "2            Check                          Dept of Justce  ...         NaN   \n",
              "3            Check                                     NaN  ...         NaN   \n",
              "4            Check                  EASE Property Services  ...         NaN   \n",
              "\n",
              "   Unnamed: 32 Unnamed: 33  Unnamed: 34  Unnamed: 35  Unnamed: 36  \\\n",
              "0          NaN         NaN          NaN          NaN          NaN   \n",
              "1          NaN         NaN          NaN          NaN          NaN   \n",
              "2          NaN         NaN          NaN          NaN          NaN   \n",
              "3          NaN         NaN          NaN          NaN          NaN   \n",
              "4          NaN         NaN          NaN          NaN          NaN   \n",
              "\n",
              "   Unnamed: 37  Unnamed: 38 Unnamed: 39 Unnamed: 40  \n",
              "0          NaN          NaN         NaN         NaN  \n",
              "1          NaN          NaN         NaN         NaN  \n",
              "2          NaN          NaN         NaN         NaN  \n",
              "3          NaN          NaN         NaN         NaN  \n",
              "4          NaN          NaN         NaN         NaN  \n",
              "\n",
              "[5 rows x 41 columns]"
            ]
          },
          "execution_count": 4,
          "metadata": {},
          "output_type": "execute_result"
        }
      ],
      "source": [
        "df = pd.read_csv(\"Campaign_Financial_Contributions_Sample.csv\")\n",
        "df.head()"
      ]
    },
    {
      "cell_type": "code",
      "execution_count": 5,
      "id": "RNZhqSmiwDWH",
      "metadata": {
        "colab": {
          "base_uri": "https://localhost:8080/"
        },
        "id": "RNZhqSmiwDWH",
        "outputId": "ffd27b1e-53c9-47f8-f7d2-fbcf32b80105"
      },
      "outputs": [
        {
          "data": {
            "text/plain": [
              "Index(['Unnamed: 0', 'OBJECTID', 'COMMITTEENAME', 'CANDIDATENAME',\n",
              "       'ELECTIONYEAR', 'CONTRIBUTORNAME', 'ADDRESS', 'CONTRIBUTORTYPE',\n",
              "       'CONTRIBUTIONTYPE', 'EMPLOYER', 'EMPLOYERADDRESS', 'AMOUNT',\n",
              "       'DATEOFRECEIPT', 'ADDRESS_ID', 'XCOORD', 'YCOORD', 'LATITUDE',\n",
              "       'LONGITUDE', 'FULLADDRESS', 'GIS_LAST_MOD_DTTM', 'WARD', 'Unnamed: 21',\n",
              "       'Unnamed: 22', 'Unnamed: 23', 'Unnamed: 24', 'Unnamed: 25',\n",
              "       'Unnamed: 26', 'Unnamed: 27', 'Unnamed: 28', 'Unnamed: 29',\n",
              "       'Unnamed: 30', 'Unnamed: 31', 'Unnamed: 32', 'Unnamed: 33',\n",
              "       'Unnamed: 34', 'Unnamed: 35', 'Unnamed: 36', 'Unnamed: 37',\n",
              "       'Unnamed: 38', 'Unnamed: 39', 'Unnamed: 40'],\n",
              "      dtype='object')"
            ]
          },
          "execution_count": 5,
          "metadata": {},
          "output_type": "execute_result"
        }
      ],
      "source": [
        "df.columns"
      ]
    },
    {
      "cell_type": "markdown",
      "id": "e6c8bf3b",
      "metadata": {
        "id": "e6c8bf3b"
      },
      "source": [
        "## Q2 (Auto Grading)\n",
        "\n",
        "**Points:** 1\n",
        "\n",
        "**Question:** How many donations (rows) in this dataset are from corporations?\n",
        "\n",
        "Write a function called `numdoncorp()` the function should take as parameter the name of the file with data and it should return the answer to the question as an int."
      ]
    },
    {
      "cell_type": "code",
      "execution_count": 6,
      "id": "e0f7984d",
      "metadata": {
        "id": "e0f7984d"
      },
      "outputs": [],
      "source": [
        "import pandas as pd\n",
        "\n",
        "def numdoncorp(path):\n",
        "  df = pd.read_csv(path)\n",
        "  return df[df['CONTRIBUTORTYPE'] == 'Corporation'].shape[0]"
      ]
    },
    {
      "cell_type": "code",
      "execution_count": 7,
      "id": "0d51b3b9",
      "metadata": {
        "colab": {
          "base_uri": "https://localhost:8080/"
        },
        "id": "0d51b3b9",
        "outputId": "6c5834e1-fa5b-4700-956a-4e0a45226b43"
      },
      "outputs": [
        {
          "data": {
            "text/plain": [
              "137"
            ]
          },
          "execution_count": 7,
          "metadata": {},
          "output_type": "execute_result"
        }
      ],
      "source": [
        "numdoncorp(\"Campaign_Financial_Contributions_Sample.csv\")"
      ]
    },
    {
      "cell_type": "markdown",
      "id": "29564206",
      "metadata": {
        "id": "29564206"
      },
      "source": [
        "When you're ready run the cell below to get feedback on your answer."
      ]
    },
    {
      "cell_type": "code",
      "execution_count": 8,
      "id": "4d11865b",
      "metadata": {
        "colab": {
          "base_uri": "https://localhost:8080/",
          "height": 46
        },
        "id": "4d11865b",
        "outputId": "5aa90166-6137-409c-eb07-5446a8837a66"
      },
      "outputs": [
        {
          "data": {
            "text/html": [
              "<p><strong><pre style='display: inline;'>q2</pre></strong> passed! 🌈</p>"
            ],
            "text/plain": [
              "q2 results: All test cases passed!"
            ]
          },
          "execution_count": 8,
          "metadata": {},
          "output_type": "execute_result"
        }
      ],
      "source": [
        "grader.check(\"q2\")"
      ]
    },
    {
      "cell_type": "markdown",
      "id": "7d2dfc6e",
      "metadata": {
        "id": "7d2dfc6e"
      },
      "source": [
        "## Q3 (Manual Grading)\n",
        "\n",
        "**Points:** 1\n",
        "\n",
        "**Question:** True or False: The campaign contribution data set is structured data.\n",
        "\n",
        "1. True\n",
        "2. False\n",
        "\n",
        "Write down the answer in the following cell."
      ]
    },
    {
      "cell_type": "markdown",
      "id": "1ad79b62",
      "metadata": {
        "id": "1ad79b62"
      },
      "source": [
        "**`TRUE`**"
      ]
    },
    {
      "cell_type": "markdown",
      "id": "465ef578",
      "metadata": {
        "id": "465ef578"
      },
      "source": [
        "# Part B: cleaning inconsistent records\n",
        "\n",
        "The next set of questions will ask you to clean the dataframe before computing the desired value."
      ]
    },
    {
      "cell_type": "markdown",
      "id": "b0f7171f",
      "metadata": {
        "id": "b0f7171f"
      },
      "source": [
        "## Q4 (Auto Grading)\n",
        "\n",
        "**Points:** 1\n",
        "\n",
        "**Question:**  What is the minimum donation amount (do not round)? Note that in this an the following questions, any donation amounts of 0 are likely mistakes and are NOT acceptable answers because donors cannot give a $0 donation. Since there are some donations with 0 amount, filter these rows.\n",
        "\n",
        "Write a function called `findLeastAmount()`. the function should take as parameter the name of the file with data and it should return the exact value and not round off value as the answer."
      ]
    },
    {
      "cell_type": "code",
      "execution_count": 9,
      "id": "8b7352f1",
      "metadata": {
        "id": "8b7352f1"
      },
      "outputs": [],
      "source": [
        "import pandas as pd\n",
        "\n",
        "def findLeastAmount(path):\n",
        "  df = pd.read_csv(path)\n",
        "  return df[df['AMOUNT'] > 0]['AMOUNT'].min()"
      ]
    },
    {
      "cell_type": "code",
      "execution_count": 10,
      "id": "8c65b4f0",
      "metadata": {
        "colab": {
          "base_uri": "https://localhost:8080/"
        },
        "id": "8c65b4f0",
        "outputId": "94cf9727-3f1d-4b2f-f38b-8c12bbcf6576"
      },
      "outputs": [
        {
          "data": {
            "text/plain": [
              "0.09"
            ]
          },
          "execution_count": 10,
          "metadata": {},
          "output_type": "execute_result"
        }
      ],
      "source": [
        "findLeastAmount(\"Campaign_Financial_Contributions_Sample.csv\")"
      ]
    },
    {
      "cell_type": "markdown",
      "id": "d258d81b",
      "metadata": {
        "id": "d258d81b"
      },
      "source": [
        "When you're ready run the cell below to get feedback on your answer."
      ]
    },
    {
      "cell_type": "code",
      "execution_count": 11,
      "id": "2688995e",
      "metadata": {
        "colab": {
          "base_uri": "https://localhost:8080/",
          "height": 46
        },
        "id": "2688995e",
        "outputId": "6fc272c3-5d5f-4431-a937-0b18d2497523"
      },
      "outputs": [
        {
          "data": {
            "text/html": [
              "<p><strong><pre style='display: inline;'>q4</pre></strong> passed! 🍀</p>"
            ],
            "text/plain": [
              "q4 results: All test cases passed!"
            ]
          },
          "execution_count": 11,
          "metadata": {},
          "output_type": "execute_result"
        }
      ],
      "source": [
        "grader.check(\"q4\")"
      ]
    },
    {
      "cell_type": "markdown",
      "id": "6fec9073",
      "metadata": {
        "id": "6fec9073"
      },
      "source": [
        "## Q5 (Auto Grading)\n",
        "\n",
        "<div class=\"alert alert-warning\">Make sure to apply the same cleaning step from Q4</div>\n",
        "\n",
        "**Points:** 1\n",
        "\n",
        "**Question:** What is the maximum donation amount?\n",
        "\n",
        "Write a function called `findMaxAmount()`. the function should take as parameter the name of the file with data and it should return the exact value and not round off value as the answer."
      ]
    },
    {
      "cell_type": "code",
      "execution_count": 12,
      "id": "f096da24",
      "metadata": {
        "id": "f096da24"
      },
      "outputs": [],
      "source": [
        "import pandas as pd\n",
        "\n",
        "def findMaxAmount(path):\n",
        "  df = pd.read_csv(path)\n",
        "  return df[df['AMOUNT'] > 0]['AMOUNT'].max()"
      ]
    },
    {
      "cell_type": "code",
      "execution_count": 13,
      "id": "6472af7e",
      "metadata": {
        "colab": {
          "base_uri": "https://localhost:8080/"
        },
        "id": "6472af7e",
        "outputId": "449a6a79-bc5d-46d9-bae7-c28010439f3b"
      },
      "outputs": [
        {
          "data": {
            "text/plain": [
              "35000.0"
            ]
          },
          "execution_count": 13,
          "metadata": {},
          "output_type": "execute_result"
        }
      ],
      "source": [
        "findMaxAmount(\"Campaign_Financial_Contributions_Sample.csv\")"
      ]
    },
    {
      "cell_type": "markdown",
      "id": "5be451fe",
      "metadata": {
        "id": "5be451fe"
      },
      "source": [
        "When you're ready run the cell below to get feedback on your answer."
      ]
    },
    {
      "cell_type": "code",
      "execution_count": 14,
      "id": "5f68fe1c",
      "metadata": {
        "colab": {
          "base_uri": "https://localhost:8080/",
          "height": 46
        },
        "id": "5f68fe1c",
        "outputId": "2fd1cef6-fa3e-4bab-c056-7561d7eb1ae8"
      },
      "outputs": [
        {
          "data": {
            "text/html": [
              "<p><strong><pre style='display: inline;'>q5</pre></strong> passed! 🙌</p>"
            ],
            "text/plain": [
              "q5 results: All test cases passed!"
            ]
          },
          "execution_count": 14,
          "metadata": {},
          "output_type": "execute_result"
        }
      ],
      "source": [
        "grader.check(\"q5\")"
      ]
    },
    {
      "cell_type": "markdown",
      "id": "df7b6c1b",
      "metadata": {
        "id": "df7b6c1b"
      },
      "source": [
        "## Q6 (Auto Grading)\n",
        "\n",
        "<div class=\"alert alert-warning\">Make sure to apply the same cleaning step from Q4</div>\n",
        "\n",
        "**Points:** 1\n",
        "\n",
        "**Question:** What is the most recent date listed in the column for DATEOFRECEIPT?\n",
        "\n",
        "Write a function called `findRecentDate()`. the function should take as parameter the name of the file with data and it should return a Python string in the form `YYYY-MM-DD`."
      ]
    },
    {
      "cell_type": "code",
      "execution_count": 26,
      "id": "5c13d88f",
      "metadata": {
        "id": "5c13d88f"
      },
      "outputs": [],
      "source": [
        "import pandas as pd\n",
        "\n",
        "def findRecentDate(path):\n",
        "  df = pd.read_csv(path)\n",
        "  df['DATEOFRECEIPT'] = pd.to_datetime(df['DATEOFRECEIPT'])\n",
        "  return df['DATEOFRECEIPT'].max().strftime('%Y-%m-%d')"
      ]
    },
    {
      "cell_type": "code",
      "execution_count": 27,
      "id": "13d94778",
      "metadata": {
        "colab": {
          "base_uri": "https://localhost:8080/",
          "height": 35
        },
        "id": "13d94778",
        "outputId": "00545f32-4981-42f9-9678-d3262f432919"
      },
      "outputs": [
        {
          "data": {
            "application/vnd.google.colaboratory.intrinsic+json": {
              "type": "string"
            },
            "text/plain": [
              "'2019-03-13'"
            ]
          },
          "execution_count": 27,
          "metadata": {},
          "output_type": "execute_result"
        }
      ],
      "source": [
        "findRecentDate(\"Campaign_Financial_Contributions_Sample.csv\")"
      ]
    },
    {
      "cell_type": "markdown",
      "id": "1ecd38f5-9fe4-4f38-a011-dd10c2fdf511",
      "metadata": {
        "id": "1ecd38f5-9fe4-4f38-a011-dd10c2fdf511"
      },
      "source": [
        "When you're ready run the cell below to get feedback on your answer."
      ]
    },
    {
      "cell_type": "code",
      "execution_count": 28,
      "id": "5dce2633",
      "metadata": {
        "colab": {
          "base_uri": "https://localhost:8080/",
          "height": 46
        },
        "id": "5dce2633",
        "outputId": "ab6e49e4-8ac5-4761-be33-5589d70c9b1e"
      },
      "outputs": [
        {
          "data": {
            "text/html": [
              "<p><strong><pre style='display: inline;'>q6</pre></strong> passed! 🙌</p>"
            ],
            "text/plain": [
              "q6 results: All test cases passed!"
            ]
          },
          "execution_count": 28,
          "metadata": {},
          "output_type": "execute_result"
        }
      ],
      "source": [
        "grader.check(\"q6\")"
      ]
    },
    {
      "cell_type": "markdown",
      "id": "9104a558",
      "metadata": {
        "id": "9104a558"
      },
      "source": [
        "## Q7 (Auto Grading)\n",
        "\n",
        "<div class=\"alert alert-warning\">Make sure to apply the same cleaning step from the Q4</div>\n",
        "\n",
        "**Points: 1**\n",
        "\n",
        "**Question:** How many missing values are there for contributor type (CONTRIBUTORTYPE)?"
      ]
    },
    {
      "cell_type": "code",
      "execution_count": 29,
      "id": "a1bb0896",
      "metadata": {
        "id": "a1bb0896"
      },
      "outputs": [],
      "source": [
        "import pandas as pd\n",
        "\n",
        "def findMissingValues(path):\n",
        "  df = pd.read_csv(path)\n",
        "  return df[df['AMOUNT'] > 0]['CONTRIBUTORTYPE'].isnull().sum()"
      ]
    },
    {
      "cell_type": "code",
      "execution_count": 30,
      "id": "9b5e4109",
      "metadata": {
        "colab": {
          "base_uri": "https://localhost:8080/"
        },
        "id": "9b5e4109",
        "outputId": "12890cc0-90aa-4332-a0b0-62789dd8c757"
      },
      "outputs": [
        {
          "data": {
            "text/plain": [
              "1"
            ]
          },
          "execution_count": 30,
          "metadata": {},
          "output_type": "execute_result"
        }
      ],
      "source": [
        "findMissingValues(\"Campaign_Financial_Contributions_Sample.csv\")"
      ]
    },
    {
      "cell_type": "markdown",
      "id": "2ef4bf1d-41a7-4037-8866-f1ca765b8ceb",
      "metadata": {
        "id": "2ef4bf1d-41a7-4037-8866-f1ca765b8ceb"
      },
      "source": [
        "When you're ready run the cell below to get feedback on your answer."
      ]
    },
    {
      "cell_type": "code",
      "execution_count": 31,
      "id": "b4092019",
      "metadata": {
        "colab": {
          "base_uri": "https://localhost:8080/",
          "height": 46
        },
        "id": "b4092019",
        "outputId": "0abf2e00-e67b-494e-d31e-2787fcdfd37a"
      },
      "outputs": [
        {
          "data": {
            "text/html": [
              "<p><strong><pre style='display: inline;'>q7</pre></strong> passed! 💯</p>"
            ],
            "text/plain": [
              "q7 results: All test cases passed!"
            ]
          },
          "execution_count": 31,
          "metadata": {},
          "output_type": "execute_result"
        }
      ],
      "source": [
        "grader.check(\"q7\")"
      ]
    },
    {
      "cell_type": "markdown",
      "id": "c65459d3",
      "metadata": {
        "id": "c65459d3"
      },
      "source": [
        "## Submission\n",
        "\n",
        "Don't forget to run all cells in your notebook and then save it. To save, click on `File`, then select `Save/Save Notebook`. After that, download the notebook by going to `File`, then `Download` (for Anaconda notebook), and choosing `Download .ipynb` (for Colab). Finally, submit the notebook on Gradescope using the link found on ELMS."
      ]
    },
    {
      "cell_type": "markdown",
      "id": "90f7af7f",
      "metadata": {
        "id": "90f7af7f"
      },
      "source": []
    }
  ],
  "metadata": {
    "celltoolbar": "Create Assignment",
    "colab": {
      "provenance": [],
      "toc_visible": true
    },
    "kernelspec": {
      "display_name": "Python 3 (ipykernel)",
      "language": "python",
      "name": "python3"
    },
    "language_info": {
      "codemirror_mode": {
        "name": "ipython",
        "version": 3
      },
      "file_extension": ".py",
      "mimetype": "text/x-python",
      "name": "python",
      "nbconvert_exporter": "python",
      "pygments_lexer": "ipython3",
      "version": "3.12.4"
    },
    "otter": {
      "OK_FORMAT": true,
      "tests": {
        "q2": {
          "name": "q2",
          "points": null,
          "suites": [
            {
              "cases": [
                {
                  "code": ">>> assert numdoncorp('Campaign_Financial_Contributions_Sample.csv') == 137, \"The number of rows doesn't match with expected result\"\n",
                  "hidden": false,
                  "locked": false
                }
              ],
              "scored": true,
              "setup": "",
              "teardown": "",
              "type": "doctest"
            }
          ]
        },
        "q4": {
          "name": "q4",
          "points": null,
          "suites": [
            {
              "cases": [
                {
                  "code": ">>> assert findLeastAmount('Campaign_Financial_Contributions_Sample.csv') == 0.09, \"The return value doesn't match with the expected value\"\n",
                  "hidden": false,
                  "locked": false
                }
              ],
              "scored": true,
              "setup": "",
              "teardown": "",
              "type": "doctest"
            }
          ]
        },
        "q5": {
          "name": "q5",
          "points": null,
          "suites": [
            {
              "cases": [
                {
                  "code": ">>> assert findMaxAmount('Campaign_Financial_Contributions_Sample.csv') == 35000.0, \"The return value doesn't match with the expected value\"\n",
                  "hidden": false,
                  "locked": false
                }
              ],
              "scored": true,
              "setup": "",
              "teardown": "",
              "type": "doctest"
            }
          ]
        },
        "q6": {
          "name": "q6",
          "points": null,
          "suites": [
            {
              "cases": [
                {
                  "code": ">>> assert findRecentDate('Campaign_Financial_Contributions_Sample.csv') == '2019-03-13', \"The return date doesn't match with the expected date\"\n",
                  "hidden": false,
                  "locked": false
                }
              ],
              "scored": true,
              "setup": "",
              "teardown": "",
              "type": "doctest"
            }
          ]
        },
        "q7": {
          "name": "q7",
          "points": null,
          "suites": [
            {
              "cases": [
                {
                  "code": ">>> assert findMissingValues('Campaign_Financial_Contributions_Sample.csv') == 1, \"The return value doesn't match with the expected value\"\n",
                  "hidden": false,
                  "locked": false
                }
              ],
              "scored": true,
              "setup": "",
              "teardown": "",
              "type": "doctest"
            }
          ]
        }
      }
    }
  },
  "nbformat": 4,
  "nbformat_minor": 5
}
