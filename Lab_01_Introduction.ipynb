{
  "cells": [
    {
      "cell_type": "markdown",
      "id": "3f4db9f4-475e-499c-b478-e3d2f7dec167",
      "metadata": {
        "id": "3f4db9f4-475e-499c-b478-e3d2f7dec167"
      },
      "source": [
        "# LAB 0: Test Submission [Total: 3 points]"
      ]
    },
    {
      "cell_type": "markdown",
      "id": "YDl39IMyQBOZ",
      "metadata": {
        "id": "YDl39IMyQBOZ"
      },
      "source": [
        "### Important\n",
        "\n",
        "Please ensure that you run the cell below before running any others. This will download all required files and packages, as well as installing the necessary packages to ensure the code runs successfully. If you restart the kernel or your runtime session (in Colab), be sure to rerun this cell before running any others."
      ]
    },
    {
      "cell_type": "code",
      "execution_count": 7,
      "id": "857ab927-f7da-4553-8243-96ac790bd302",
      "metadata": {
        "id": "857ab927-f7da-4553-8243-96ac790bd302",
        "tags": []
      },
      "outputs": [
        {
          "name": "stdout",
          "output_type": "stream",
          "text": [
            "mkdir: tests: File exists\n"
          ]
        },
        {
          "name": "stdout",
          "output_type": "stream",
          "text": [
            "Requirement already satisfied: numpy in /opt/anaconda3/lib/python3.12/site-packages (from -r requirements.txt (line 1)) (1.26.4)\n",
            "Requirement already satisfied: otter-grader==5.5.0 in /opt/anaconda3/lib/python3.12/site-packages (from -r requirements.txt (line 2)) (5.5.0)\n",
            "Requirement already satisfied: dill in /opt/anaconda3/lib/python3.12/site-packages (from otter-grader==5.5.0->-r requirements.txt (line 2)) (0.3.8)\n",
            "Requirement already satisfied: jinja2 in /opt/anaconda3/lib/python3.12/site-packages (from otter-grader==5.5.0->-r requirements.txt (line 2)) (3.1.4)\n",
            "Requirement already satisfied: nbformat in /opt/anaconda3/lib/python3.12/site-packages (from otter-grader==5.5.0->-r requirements.txt (line 2)) (5.9.2)\n",
            "Requirement already satisfied: pandas in /opt/anaconda3/lib/python3.12/site-packages (from otter-grader==5.5.0->-r requirements.txt (line 2)) (2.2.2)\n",
            "Requirement already satisfied: PyYAML in /opt/anaconda3/lib/python3.12/site-packages (from otter-grader==5.5.0->-r requirements.txt (line 2)) (6.0.1)\n",
            "Requirement already satisfied: python-on-whales in /opt/anaconda3/lib/python3.12/site-packages (from otter-grader==5.5.0->-r requirements.txt (line 2)) (0.72.0)\n",
            "Requirement already satisfied: requests in /opt/anaconda3/lib/python3.12/site-packages (from otter-grader==5.5.0->-r requirements.txt (line 2)) (2.32.2)\n",
            "Requirement already satisfied: wrapt in /opt/anaconda3/lib/python3.12/site-packages (from otter-grader==5.5.0->-r requirements.txt (line 2)) (1.14.1)\n",
            "Requirement already satisfied: jupytext in /opt/anaconda3/lib/python3.12/site-packages (from otter-grader==5.5.0->-r requirements.txt (line 2)) (1.16.4)\n",
            "Requirement already satisfied: click in /opt/anaconda3/lib/python3.12/site-packages (from otter-grader==5.5.0->-r requirements.txt (line 2)) (8.1.7)\n",
            "Requirement already satisfied: fica>=0.3.1 in /opt/anaconda3/lib/python3.12/site-packages (from otter-grader==5.5.0->-r requirements.txt (line 2)) (0.3.1)\n",
            "Requirement already satisfied: ipython in /opt/anaconda3/lib/python3.12/site-packages (from otter-grader==5.5.0->-r requirements.txt (line 2)) (8.25.0)\n",
            "Requirement already satisfied: astunparse in /opt/anaconda3/lib/python3.12/site-packages (from otter-grader==5.5.0->-r requirements.txt (line 2)) (1.6.3)\n",
            "Requirement already satisfied: ipywidgets in /opt/anaconda3/lib/python3.12/site-packages (from otter-grader==5.5.0->-r requirements.txt (line 2)) (7.8.1)\n",
            "Requirement already satisfied: ipylab in /opt/anaconda3/lib/python3.12/site-packages (from otter-grader==5.5.0->-r requirements.txt (line 2)) (1.0.0)\n",
            "Requirement already satisfied: nbconvert in /opt/anaconda3/lib/python3.12/site-packages (from otter-grader==5.5.0->-r requirements.txt (line 2)) (7.10.0)\n",
            "Requirement already satisfied: docutils in /opt/anaconda3/lib/python3.12/site-packages (from fica>=0.3.1->otter-grader==5.5.0->-r requirements.txt (line 2)) (0.18.1)\n",
            "Requirement already satisfied: sphinx in /opt/anaconda3/lib/python3.12/site-packages (from fica>=0.3.1->otter-grader==5.5.0->-r requirements.txt (line 2)) (7.3.7)\n",
            "Requirement already satisfied: wheel<1.0,>=0.23.0 in /opt/anaconda3/lib/python3.12/site-packages (from astunparse->otter-grader==5.5.0->-r requirements.txt (line 2)) (0.43.0)\n",
            "Requirement already satisfied: six<2.0,>=1.6.1 in /opt/anaconda3/lib/python3.12/site-packages (from astunparse->otter-grader==5.5.0->-r requirements.txt (line 2)) (1.16.0)\n",
            "Requirement already satisfied: comm>=0.1.3 in /opt/anaconda3/lib/python3.12/site-packages (from ipywidgets->otter-grader==5.5.0->-r requirements.txt (line 2)) (0.2.1)\n",
            "Requirement already satisfied: ipython-genutils~=0.2.0 in /opt/anaconda3/lib/python3.12/site-packages (from ipywidgets->otter-grader==5.5.0->-r requirements.txt (line 2)) (0.2.0)\n",
            "Requirement already satisfied: traitlets>=4.3.1 in /opt/anaconda3/lib/python3.12/site-packages (from ipywidgets->otter-grader==5.5.0->-r requirements.txt (line 2)) (5.14.3)\n",
            "Requirement already satisfied: widgetsnbextension~=3.6.6 in /opt/anaconda3/lib/python3.12/site-packages (from ipywidgets->otter-grader==5.5.0->-r requirements.txt (line 2)) (3.6.6)\n",
            "Requirement already satisfied: jupyterlab-widgets<3,>=1.0.0 in /opt/anaconda3/lib/python3.12/site-packages (from ipywidgets->otter-grader==5.5.0->-r requirements.txt (line 2)) (1.0.0)\n",
            "Requirement already satisfied: decorator in /opt/anaconda3/lib/python3.12/site-packages (from ipython->otter-grader==5.5.0->-r requirements.txt (line 2)) (5.1.1)\n",
            "Requirement already satisfied: jedi>=0.16 in /opt/anaconda3/lib/python3.12/site-packages (from ipython->otter-grader==5.5.0->-r requirements.txt (line 2)) (0.18.1)\n",
            "Requirement already satisfied: matplotlib-inline in /opt/anaconda3/lib/python3.12/site-packages (from ipython->otter-grader==5.5.0->-r requirements.txt (line 2)) (0.1.6)\n",
            "Requirement already satisfied: prompt-toolkit<3.1.0,>=3.0.41 in /opt/anaconda3/lib/python3.12/site-packages (from ipython->otter-grader==5.5.0->-r requirements.txt (line 2)) (3.0.43)\n",
            "Requirement already satisfied: pygments>=2.4.0 in /opt/anaconda3/lib/python3.12/site-packages (from ipython->otter-grader==5.5.0->-r requirements.txt (line 2)) (2.15.1)\n",
            "Requirement already satisfied: stack-data in /opt/anaconda3/lib/python3.12/site-packages (from ipython->otter-grader==5.5.0->-r requirements.txt (line 2)) (0.2.0)\n",
            "Requirement already satisfied: pexpect>4.3 in /opt/anaconda3/lib/python3.12/site-packages (from ipython->otter-grader==5.5.0->-r requirements.txt (line 2)) (4.8.0)\n",
            "Requirement already satisfied: MarkupSafe>=2.0 in /opt/anaconda3/lib/python3.12/site-packages (from jinja2->otter-grader==5.5.0->-r requirements.txt (line 2)) (2.1.3)\n",
            "Requirement already satisfied: markdown-it-py>=1.0 in /opt/anaconda3/lib/python3.12/site-packages (from jupytext->otter-grader==5.5.0->-r requirements.txt (line 2)) (2.2.0)\n",
            "Requirement already satisfied: mdit-py-plugins in /opt/anaconda3/lib/python3.12/site-packages (from jupytext->otter-grader==5.5.0->-r requirements.txt (line 2)) (0.3.0)\n",
            "Requirement already satisfied: packaging in /opt/anaconda3/lib/python3.12/site-packages (from jupytext->otter-grader==5.5.0->-r requirements.txt (line 2)) (23.2)\n",
            "Requirement already satisfied: beautifulsoup4 in /opt/anaconda3/lib/python3.12/site-packages (from nbconvert->otter-grader==5.5.0->-r requirements.txt (line 2)) (4.12.3)\n",
            "Requirement already satisfied: bleach!=5.0.0 in /opt/anaconda3/lib/python3.12/site-packages (from nbconvert->otter-grader==5.5.0->-r requirements.txt (line 2)) (4.1.0)\n",
            "Requirement already satisfied: defusedxml in /opt/anaconda3/lib/python3.12/site-packages (from nbconvert->otter-grader==5.5.0->-r requirements.txt (line 2)) (0.7.1)\n",
            "Requirement already satisfied: jupyter-core>=4.7 in /opt/anaconda3/lib/python3.12/site-packages (from nbconvert->otter-grader==5.5.0->-r requirements.txt (line 2)) (5.7.2)\n",
            "Requirement already satisfied: jupyterlab-pygments in /opt/anaconda3/lib/python3.12/site-packages (from nbconvert->otter-grader==5.5.0->-r requirements.txt (line 2)) (0.1.2)\n",
            "Requirement already satisfied: mistune<4,>=2.0.3 in /opt/anaconda3/lib/python3.12/site-packages (from nbconvert->otter-grader==5.5.0->-r requirements.txt (line 2)) (2.0.4)\n",
            "Requirement already satisfied: nbclient>=0.5.0 in /opt/anaconda3/lib/python3.12/site-packages (from nbconvert->otter-grader==5.5.0->-r requirements.txt (line 2)) (0.8.0)\n",
            "Requirement already satisfied: pandocfilters>=1.4.1 in /opt/anaconda3/lib/python3.12/site-packages (from nbconvert->otter-grader==5.5.0->-r requirements.txt (line 2)) (1.5.0)\n",
            "Requirement already satisfied: tinycss2 in /opt/anaconda3/lib/python3.12/site-packages (from nbconvert->otter-grader==5.5.0->-r requirements.txt (line 2)) (1.2.1)\n",
            "Requirement already satisfied: fastjsonschema in /opt/anaconda3/lib/python3.12/site-packages (from nbformat->otter-grader==5.5.0->-r requirements.txt (line 2)) (2.16.2)\n",
            "Requirement already satisfied: jsonschema>=2.6 in /opt/anaconda3/lib/python3.12/site-packages (from nbformat->otter-grader==5.5.0->-r requirements.txt (line 2)) (4.19.2)\n",
            "Requirement already satisfied: python-dateutil>=2.8.2 in /opt/anaconda3/lib/python3.12/site-packages (from pandas->otter-grader==5.5.0->-r requirements.txt (line 2)) (2.9.0.post0)\n",
            "Requirement already satisfied: pytz>=2020.1 in /opt/anaconda3/lib/python3.12/site-packages (from pandas->otter-grader==5.5.0->-r requirements.txt (line 2)) (2024.1)\n",
            "Requirement already satisfied: tzdata>=2022.7 in /opt/anaconda3/lib/python3.12/site-packages (from pandas->otter-grader==5.5.0->-r requirements.txt (line 2)) (2023.3)\n",
            "Requirement already satisfied: pydantic!=2.0.*,<3,>=1.9 in /opt/anaconda3/lib/python3.12/site-packages (from python-on-whales->otter-grader==5.5.0->-r requirements.txt (line 2)) (2.5.3)\n",
            "Requirement already satisfied: tqdm in /opt/anaconda3/lib/python3.12/site-packages (from python-on-whales->otter-grader==5.5.0->-r requirements.txt (line 2)) (4.66.4)\n",
            "Requirement already satisfied: typer>=0.4.1 in /opt/anaconda3/lib/python3.12/site-packages (from python-on-whales->otter-grader==5.5.0->-r requirements.txt (line 2)) (0.12.5)\n",
            "Requirement already satisfied: typing-extensions in /opt/anaconda3/lib/python3.12/site-packages (from python-on-whales->otter-grader==5.5.0->-r requirements.txt (line 2)) (4.11.0)\n",
            "Requirement already satisfied: charset-normalizer<4,>=2 in /opt/anaconda3/lib/python3.12/site-packages (from requests->otter-grader==5.5.0->-r requirements.txt (line 2)) (2.0.4)\n",
            "Requirement already satisfied: idna<4,>=2.5 in /opt/anaconda3/lib/python3.12/site-packages (from requests->otter-grader==5.5.0->-r requirements.txt (line 2)) (3.7)\n",
            "Requirement already satisfied: urllib3<3,>=1.21.1 in /opt/anaconda3/lib/python3.12/site-packages (from requests->otter-grader==5.5.0->-r requirements.txt (line 2)) (2.2.2)\n",
            "Requirement already satisfied: certifi>=2017.4.17 in /opt/anaconda3/lib/python3.12/site-packages (from requests->otter-grader==5.5.0->-r requirements.txt (line 2)) (2024.7.4)\n",
            "Requirement already satisfied: webencodings in /opt/anaconda3/lib/python3.12/site-packages (from bleach!=5.0.0->nbconvert->otter-grader==5.5.0->-r requirements.txt (line 2)) (0.5.1)\n",
            "Requirement already satisfied: parso<0.9.0,>=0.8.0 in /opt/anaconda3/lib/python3.12/site-packages (from jedi>=0.16->ipython->otter-grader==5.5.0->-r requirements.txt (line 2)) (0.8.3)\n",
            "Requirement already satisfied: attrs>=22.2.0 in /opt/anaconda3/lib/python3.12/site-packages (from jsonschema>=2.6->nbformat->otter-grader==5.5.0->-r requirements.txt (line 2)) (23.1.0)\n",
            "Requirement already satisfied: jsonschema-specifications>=2023.03.6 in /opt/anaconda3/lib/python3.12/site-packages (from jsonschema>=2.6->nbformat->otter-grader==5.5.0->-r requirements.txt (line 2)) (2023.7.1)\n",
            "Requirement already satisfied: referencing>=0.28.4 in /opt/anaconda3/lib/python3.12/site-packages (from jsonschema>=2.6->nbformat->otter-grader==5.5.0->-r requirements.txt (line 2)) (0.30.2)\n",
            "Requirement already satisfied: rpds-py>=0.7.1 in /opt/anaconda3/lib/python3.12/site-packages (from jsonschema>=2.6->nbformat->otter-grader==5.5.0->-r requirements.txt (line 2)) (0.10.6)\n",
            "Requirement already satisfied: platformdirs>=2.5 in /opt/anaconda3/lib/python3.12/site-packages (from jupyter-core>=4.7->nbconvert->otter-grader==5.5.0->-r requirements.txt (line 2)) (3.10.0)\n",
            "Requirement already satisfied: mdurl~=0.1 in /opt/anaconda3/lib/python3.12/site-packages (from markdown-it-py>=1.0->jupytext->otter-grader==5.5.0->-r requirements.txt (line 2)) (0.1.0)\n",
            "Requirement already satisfied: jupyter-client>=6.1.12 in /opt/anaconda3/lib/python3.12/site-packages (from nbclient>=0.5.0->nbconvert->otter-grader==5.5.0->-r requirements.txt (line 2)) (8.6.0)\n",
            "Requirement already satisfied: ptyprocess>=0.5 in /opt/anaconda3/lib/python3.12/site-packages (from pexpect>4.3->ipython->otter-grader==5.5.0->-r requirements.txt (line 2)) (0.7.0)\n",
            "Requirement already satisfied: wcwidth in /opt/anaconda3/lib/python3.12/site-packages (from prompt-toolkit<3.1.0,>=3.0.41->ipython->otter-grader==5.5.0->-r requirements.txt (line 2)) (0.2.5)\n",
            "Requirement already satisfied: annotated-types>=0.4.0 in /opt/anaconda3/lib/python3.12/site-packages (from pydantic!=2.0.*,<3,>=1.9->python-on-whales->otter-grader==5.5.0->-r requirements.txt (line 2)) (0.6.0)\n",
            "Requirement already satisfied: pydantic-core==2.14.6 in /opt/anaconda3/lib/python3.12/site-packages (from pydantic!=2.0.*,<3,>=1.9->python-on-whales->otter-grader==5.5.0->-r requirements.txt (line 2)) (2.14.6)\n",
            "Requirement already satisfied: shellingham>=1.3.0 in /opt/anaconda3/lib/python3.12/site-packages (from typer>=0.4.1->python-on-whales->otter-grader==5.5.0->-r requirements.txt (line 2)) (1.5.4)\n",
            "Requirement already satisfied: rich>=10.11.0 in /opt/anaconda3/lib/python3.12/site-packages (from typer>=0.4.1->python-on-whales->otter-grader==5.5.0->-r requirements.txt (line 2)) (13.3.5)\n",
            "Requirement already satisfied: notebook>=4.4.1 in /opt/anaconda3/lib/python3.12/site-packages (from widgetsnbextension~=3.6.6->ipywidgets->otter-grader==5.5.0->-r requirements.txt (line 2)) (7.0.8)\n",
            "Requirement already satisfied: soupsieve>1.2 in /opt/anaconda3/lib/python3.12/site-packages (from beautifulsoup4->nbconvert->otter-grader==5.5.0->-r requirements.txt (line 2)) (2.5)\n",
            "Requirement already satisfied: sphinxcontrib-applehelp in /opt/anaconda3/lib/python3.12/site-packages (from sphinx->fica>=0.3.1->otter-grader==5.5.0->-r requirements.txt (line 2)) (1.0.2)\n",
            "Requirement already satisfied: sphinxcontrib-devhelp in /opt/anaconda3/lib/python3.12/site-packages (from sphinx->fica>=0.3.1->otter-grader==5.5.0->-r requirements.txt (line 2)) (1.0.2)\n",
            "Requirement already satisfied: sphinxcontrib-jsmath in /opt/anaconda3/lib/python3.12/site-packages (from sphinx->fica>=0.3.1->otter-grader==5.5.0->-r requirements.txt (line 2)) (1.0.1)\n",
            "Requirement already satisfied: sphinxcontrib-htmlhelp>=2.0.0 in /opt/anaconda3/lib/python3.12/site-packages (from sphinx->fica>=0.3.1->otter-grader==5.5.0->-r requirements.txt (line 2)) (2.0.0)\n",
            "Requirement already satisfied: sphinxcontrib-serializinghtml>=1.1.9 in /opt/anaconda3/lib/python3.12/site-packages (from sphinx->fica>=0.3.1->otter-grader==5.5.0->-r requirements.txt (line 2)) (1.1.10)\n",
            "Requirement already satisfied: sphinxcontrib-qthelp in /opt/anaconda3/lib/python3.12/site-packages (from sphinx->fica>=0.3.1->otter-grader==5.5.0->-r requirements.txt (line 2)) (1.0.3)\n",
            "Requirement already satisfied: snowballstemmer>=2.0 in /opt/anaconda3/lib/python3.12/site-packages (from sphinx->fica>=0.3.1->otter-grader==5.5.0->-r requirements.txt (line 2)) (2.2.0)\n",
            "Requirement already satisfied: babel>=2.9 in /opt/anaconda3/lib/python3.12/site-packages (from sphinx->fica>=0.3.1->otter-grader==5.5.0->-r requirements.txt (line 2)) (2.11.0)\n",
            "Requirement already satisfied: alabaster~=0.7.14 in /opt/anaconda3/lib/python3.12/site-packages (from sphinx->fica>=0.3.1->otter-grader==5.5.0->-r requirements.txt (line 2)) (0.7.16)\n",
            "Requirement already satisfied: imagesize>=1.3 in /opt/anaconda3/lib/python3.12/site-packages (from sphinx->fica>=0.3.1->otter-grader==5.5.0->-r requirements.txt (line 2)) (1.4.1)\n",
            "Requirement already satisfied: executing in /opt/anaconda3/lib/python3.12/site-packages (from stack-data->ipython->otter-grader==5.5.0->-r requirements.txt (line 2)) (0.8.3)\n",
            "Requirement already satisfied: asttokens in /opt/anaconda3/lib/python3.12/site-packages (from stack-data->ipython->otter-grader==5.5.0->-r requirements.txt (line 2)) (2.0.5)\n",
            "Requirement already satisfied: pure-eval in /opt/anaconda3/lib/python3.12/site-packages (from stack-data->ipython->otter-grader==5.5.0->-r requirements.txt (line 2)) (0.2.2)\n",
            "Requirement already satisfied: pyzmq>=23.0 in /opt/anaconda3/lib/python3.12/site-packages (from jupyter-client>=6.1.12->nbclient>=0.5.0->nbconvert->otter-grader==5.5.0->-r requirements.txt (line 2)) (25.1.2)\n",
            "Requirement already satisfied: tornado>=6.2 in /opt/anaconda3/lib/python3.12/site-packages (from jupyter-client>=6.1.12->nbclient>=0.5.0->nbconvert->otter-grader==5.5.0->-r requirements.txt (line 2)) (6.4.1)\n",
            "Requirement already satisfied: jupyter-server<3,>=2.4.0 in /opt/anaconda3/lib/python3.12/site-packages (from notebook>=4.4.1->widgetsnbextension~=3.6.6->ipywidgets->otter-grader==5.5.0->-r requirements.txt (line 2)) (2.14.1)\n",
            "Requirement already satisfied: jupyterlab-server<3,>=2.22.1 in /opt/anaconda3/lib/python3.12/site-packages (from notebook>=4.4.1->widgetsnbextension~=3.6.6->ipywidgets->otter-grader==5.5.0->-r requirements.txt (line 2)) (2.25.1)\n",
            "Requirement already satisfied: jupyterlab<4.1,>=4.0.2 in /opt/anaconda3/lib/python3.12/site-packages (from notebook>=4.4.1->widgetsnbextension~=3.6.6->ipywidgets->otter-grader==5.5.0->-r requirements.txt (line 2)) (4.0.11)\n",
            "Requirement already satisfied: notebook-shim<0.3,>=0.2 in /opt/anaconda3/lib/python3.12/site-packages (from notebook>=4.4.1->widgetsnbextension~=3.6.6->ipywidgets->otter-grader==5.5.0->-r requirements.txt (line 2)) (0.2.3)\n",
            "Requirement already satisfied: anyio>=3.1.0 in /opt/anaconda3/lib/python3.12/site-packages (from jupyter-server<3,>=2.4.0->notebook>=4.4.1->widgetsnbextension~=3.6.6->ipywidgets->otter-grader==5.5.0->-r requirements.txt (line 2)) (4.2.0)\n",
            "Requirement already satisfied: argon2-cffi>=21.1 in /opt/anaconda3/lib/python3.12/site-packages (from jupyter-server<3,>=2.4.0->notebook>=4.4.1->widgetsnbextension~=3.6.6->ipywidgets->otter-grader==5.5.0->-r requirements.txt (line 2)) (21.3.0)\n",
            "Requirement already satisfied: jupyter-events>=0.9.0 in /opt/anaconda3/lib/python3.12/site-packages (from jupyter-server<3,>=2.4.0->notebook>=4.4.1->widgetsnbextension~=3.6.6->ipywidgets->otter-grader==5.5.0->-r requirements.txt (line 2)) (0.10.0)\n",
            "Requirement already satisfied: jupyter-server-terminals>=0.4.4 in /opt/anaconda3/lib/python3.12/site-packages (from jupyter-server<3,>=2.4.0->notebook>=4.4.1->widgetsnbextension~=3.6.6->ipywidgets->otter-grader==5.5.0->-r requirements.txt (line 2)) (0.4.4)\n",
            "Requirement already satisfied: overrides>=5.0 in /opt/anaconda3/lib/python3.12/site-packages (from jupyter-server<3,>=2.4.0->notebook>=4.4.1->widgetsnbextension~=3.6.6->ipywidgets->otter-grader==5.5.0->-r requirements.txt (line 2)) (7.4.0)\n",
            "Requirement already satisfied: prometheus-client>=0.9 in /opt/anaconda3/lib/python3.12/site-packages (from jupyter-server<3,>=2.4.0->notebook>=4.4.1->widgetsnbextension~=3.6.6->ipywidgets->otter-grader==5.5.0->-r requirements.txt (line 2)) (0.14.1)\n",
            "Requirement already satisfied: send2trash>=1.8.2 in /opt/anaconda3/lib/python3.12/site-packages (from jupyter-server<3,>=2.4.0->notebook>=4.4.1->widgetsnbextension~=3.6.6->ipywidgets->otter-grader==5.5.0->-r requirements.txt (line 2)) (1.8.2)\n",
            "Requirement already satisfied: terminado>=0.8.3 in /opt/anaconda3/lib/python3.12/site-packages (from jupyter-server<3,>=2.4.0->notebook>=4.4.1->widgetsnbextension~=3.6.6->ipywidgets->otter-grader==5.5.0->-r requirements.txt (line 2)) (0.17.1)\n",
            "Requirement already satisfied: websocket-client>=1.7 in /opt/anaconda3/lib/python3.12/site-packages (from jupyter-server<3,>=2.4.0->notebook>=4.4.1->widgetsnbextension~=3.6.6->ipywidgets->otter-grader==5.5.0->-r requirements.txt (line 2)) (1.8.0)\n",
            "Requirement already satisfied: async-lru>=1.0.0 in /opt/anaconda3/lib/python3.12/site-packages (from jupyterlab<4.1,>=4.0.2->notebook>=4.4.1->widgetsnbextension~=3.6.6->ipywidgets->otter-grader==5.5.0->-r requirements.txt (line 2)) (2.0.4)\n",
            "Requirement already satisfied: ipykernel in /opt/anaconda3/lib/python3.12/site-packages (from jupyterlab<4.1,>=4.0.2->notebook>=4.4.1->widgetsnbextension~=3.6.6->ipywidgets->otter-grader==5.5.0->-r requirements.txt (line 2)) (6.28.0)\n",
            "Requirement already satisfied: jupyter-lsp>=2.0.0 in /opt/anaconda3/lib/python3.12/site-packages (from jupyterlab<4.1,>=4.0.2->notebook>=4.4.1->widgetsnbextension~=3.6.6->ipywidgets->otter-grader==5.5.0->-r requirements.txt (line 2)) (2.2.0)\n",
            "Requirement already satisfied: json5>=0.9.0 in /opt/anaconda3/lib/python3.12/site-packages (from jupyterlab-server<3,>=2.22.1->notebook>=4.4.1->widgetsnbextension~=3.6.6->ipywidgets->otter-grader==5.5.0->-r requirements.txt (line 2)) (0.9.6)\n",
            "Requirement already satisfied: sniffio>=1.1 in /opt/anaconda3/lib/python3.12/site-packages (from anyio>=3.1.0->jupyter-server<3,>=2.4.0->notebook>=4.4.1->widgetsnbextension~=3.6.6->ipywidgets->otter-grader==5.5.0->-r requirements.txt (line 2)) (1.3.0)\n",
            "Requirement already satisfied: argon2-cffi-bindings in /opt/anaconda3/lib/python3.12/site-packages (from argon2-cffi>=21.1->jupyter-server<3,>=2.4.0->notebook>=4.4.1->widgetsnbextension~=3.6.6->ipywidgets->otter-grader==5.5.0->-r requirements.txt (line 2)) (21.2.0)\n",
            "Requirement already satisfied: python-json-logger>=2.0.4 in /opt/anaconda3/lib/python3.12/site-packages (from jupyter-events>=0.9.0->jupyter-server<3,>=2.4.0->notebook>=4.4.1->widgetsnbextension~=3.6.6->ipywidgets->otter-grader==5.5.0->-r requirements.txt (line 2)) (2.0.7)\n",
            "Requirement already satisfied: rfc3339-validator in /opt/anaconda3/lib/python3.12/site-packages (from jupyter-events>=0.9.0->jupyter-server<3,>=2.4.0->notebook>=4.4.1->widgetsnbextension~=3.6.6->ipywidgets->otter-grader==5.5.0->-r requirements.txt (line 2)) (0.1.4)\n",
            "Requirement already satisfied: rfc3986-validator>=0.1.1 in /opt/anaconda3/lib/python3.12/site-packages (from jupyter-events>=0.9.0->jupyter-server<3,>=2.4.0->notebook>=4.4.1->widgetsnbextension~=3.6.6->ipywidgets->otter-grader==5.5.0->-r requirements.txt (line 2)) (0.1.1)\n",
            "Requirement already satisfied: appnope in /opt/anaconda3/lib/python3.12/site-packages (from ipykernel->jupyterlab<4.1,>=4.0.2->notebook>=4.4.1->widgetsnbextension~=3.6.6->ipywidgets->otter-grader==5.5.0->-r requirements.txt (line 2)) (0.1.3)\n",
            "Requirement already satisfied: debugpy>=1.6.5 in /opt/anaconda3/lib/python3.12/site-packages (from ipykernel->jupyterlab<4.1,>=4.0.2->notebook>=4.4.1->widgetsnbextension~=3.6.6->ipywidgets->otter-grader==5.5.0->-r requirements.txt (line 2)) (1.6.7)\n",
            "Requirement already satisfied: nest-asyncio in /opt/anaconda3/lib/python3.12/site-packages (from ipykernel->jupyterlab<4.1,>=4.0.2->notebook>=4.4.1->widgetsnbextension~=3.6.6->ipywidgets->otter-grader==5.5.0->-r requirements.txt (line 2)) (1.6.0)\n",
            "Requirement already satisfied: psutil in /opt/anaconda3/lib/python3.12/site-packages (from ipykernel->jupyterlab<4.1,>=4.0.2->notebook>=4.4.1->widgetsnbextension~=3.6.6->ipywidgets->otter-grader==5.5.0->-r requirements.txt (line 2)) (5.9.0)\n",
            "Requirement already satisfied: fqdn in /opt/anaconda3/lib/python3.12/site-packages (from jsonschema[format-nongpl]>=4.18.0->jupyter-events>=0.9.0->jupyter-server<3,>=2.4.0->notebook>=4.4.1->widgetsnbextension~=3.6.6->ipywidgets->otter-grader==5.5.0->-r requirements.txt (line 2)) (1.5.1)\n",
            "Requirement already satisfied: isoduration in /opt/anaconda3/lib/python3.12/site-packages (from jsonschema[format-nongpl]>=4.18.0->jupyter-events>=0.9.0->jupyter-server<3,>=2.4.0->notebook>=4.4.1->widgetsnbextension~=3.6.6->ipywidgets->otter-grader==5.5.0->-r requirements.txt (line 2)) (20.11.0)\n",
            "Requirement already satisfied: jsonpointer>1.13 in /opt/anaconda3/lib/python3.12/site-packages (from jsonschema[format-nongpl]>=4.18.0->jupyter-events>=0.9.0->jupyter-server<3,>=2.4.0->notebook>=4.4.1->widgetsnbextension~=3.6.6->ipywidgets->otter-grader==5.5.0->-r requirements.txt (line 2)) (2.1)\n",
            "Requirement already satisfied: uri-template in /opt/anaconda3/lib/python3.12/site-packages (from jsonschema[format-nongpl]>=4.18.0->jupyter-events>=0.9.0->jupyter-server<3,>=2.4.0->notebook>=4.4.1->widgetsnbextension~=3.6.6->ipywidgets->otter-grader==5.5.0->-r requirements.txt (line 2)) (1.3.0)\n",
            "Requirement already satisfied: webcolors>=1.11 in /opt/anaconda3/lib/python3.12/site-packages (from jsonschema[format-nongpl]>=4.18.0->jupyter-events>=0.9.0->jupyter-server<3,>=2.4.0->notebook>=4.4.1->widgetsnbextension~=3.6.6->ipywidgets->otter-grader==5.5.0->-r requirements.txt (line 2)) (24.8.0)\n",
            "Requirement already satisfied: cffi>=1.0.1 in /opt/anaconda3/lib/python3.12/site-packages (from argon2-cffi-bindings->argon2-cffi>=21.1->jupyter-server<3,>=2.4.0->notebook>=4.4.1->widgetsnbextension~=3.6.6->ipywidgets->otter-grader==5.5.0->-r requirements.txt (line 2)) (1.16.0)\n",
            "Requirement already satisfied: pycparser in /opt/anaconda3/lib/python3.12/site-packages (from cffi>=1.0.1->argon2-cffi-bindings->argon2-cffi>=21.1->jupyter-server<3,>=2.4.0->notebook>=4.4.1->widgetsnbextension~=3.6.6->ipywidgets->otter-grader==5.5.0->-r requirements.txt (line 2)) (2.21)\n",
            "Requirement already satisfied: arrow>=0.15.0 in /opt/anaconda3/lib/python3.12/site-packages (from isoduration->jsonschema[format-nongpl]>=4.18.0->jupyter-events>=0.9.0->jupyter-server<3,>=2.4.0->notebook>=4.4.1->widgetsnbextension~=3.6.6->ipywidgets->otter-grader==5.5.0->-r requirements.txt (line 2)) (1.2.3)\n"
          ]
        }
      ],
      "source": [
        "required_files = \"https://github.com/mainuddin-rony/inst447-fall2024/raw/main/assignment/lab/lab0/required_files.zip\"\n",
        "# ! wget $required_files && unzip -j required_files.zip\n",
        "! mkdir tests && mv q1.py tests\n",
        "! pip install -r requirements.txt"
      ]
    },
    {
      "cell_type": "code",
      "execution_count": 8,
      "id": "638610f4",
      "metadata": {
        "deletable": false,
        "editable": false,
        "id": "638610f4"
      },
      "outputs": [],
      "source": [
        "# Initialize Otter\n",
        "import otter\n",
        "grader = otter.Notebook()"
      ]
    },
    {
      "cell_type": "markdown",
      "id": "fc0b84d1-e265-4866-9562-52aa34a6b3a4",
      "metadata": {
        "id": "fc0b84d1-e265-4866-9562-52aa34a6b3a4"
      },
      "source": [
        "The purpose of this assignment is to familiarize with the submission process of this course. This assignment comprises a simple question for **manual grading** and a basic program for **Autograder** evaluation."
      ]
    },
    {
      "cell_type": "markdown",
      "id": "283e8417-b1ac-4fd7-bee8-181663f94953",
      "metadata": {
        "id": "283e8417-b1ac-4fd7-bee8-181663f94953"
      },
      "source": [
        "## Manually graded [1 point]"
      ]
    },
    {
      "cell_type": "markdown",
      "id": "a37f05f6-3ee9-4582-aae7-7932cf2b2431",
      "metadata": {
        "id": "a37f05f6-3ee9-4582-aae7-7932cf2b2431"
      },
      "source": [
        "Write down your name in the following cell."
      ]
    },
    {
      "cell_type": "code",
      "execution_count": 9,
      "id": "091c1bb7-fc5b-4077-89c9-30b880c790d8",
      "metadata": {
        "id": "091c1bb7-fc5b-4077-89c9-30b880c790d8"
      },
      "outputs": [
        {
          "data": {
            "text/plain": [
              "'Kristina Finley'"
            ]
          },
          "execution_count": 9,
          "metadata": {},
          "output_type": "execute_result"
        }
      ],
      "source": [
        "## Your name here\n",
        "name = \"Kristina Finley\"\n",
        "name"
      ]
    },
    {
      "cell_type": "markdown",
      "id": "14f145aa-7162-4025-b111-11193e1e3f5d",
      "metadata": {
        "id": "14f145aa-7162-4025-b111-11193e1e3f5d"
      },
      "source": [
        "<br/>\n",
        "<br/>\n",
        "<br/>\n",
        "<br/>\n",
        "<br/>\n",
        "<br/>\n",
        "\n",
        "---"
      ]
    },
    {
      "cell_type": "markdown",
      "id": "cd1543b9-967b-403a-ab50-04288fe9f0f5",
      "metadata": {
        "id": "cd1543b9-967b-403a-ab50-04288fe9f0f5"
      },
      "source": [
        "## Autograded Task [2 points]"
      ]
    },
    {
      "cell_type": "markdown",
      "id": "010ffdec-b803-43ef-9819-07c911ca63d0",
      "metadata": {
        "id": "010ffdec-b803-43ef-9819-07c911ca63d0"
      },
      "source": [
        "### Q1: Calculate mean and median of a numpy array\n",
        "\n",
        "Define a function called `array_cal` that takes two parameters - a list of integers and an operation name. The function should first convert the list to a numpy array, perform the operation on the array, and return the result.\n",
        "\n",
        "For example, given the list `[1,2,3]` and the operation `mean`, it should return `2.0`.\n",
        "\n",
        "**Parameters**\n",
        "* `num_lst` &ndash; a list of integers,\n",
        "* `op` &ndash; name of the operation string (either `mean` or `median`)\n",
        "\n",
        "**Returns**\n",
        "* A numpy float value which is the result after performing the operation\n",
        "\n",
        "**Hint**\n",
        "You can use `numpy.mean()` and `numpy.median()` function to calculate mean and median\n",
        "\n",
        "---\n",
        "\n",
        "⬇️⬇️⬇️ Enter your solution in the cell below ⬇️⬇️⬇️"
      ]
    },
    {
      "cell_type": "code",
      "execution_count": 10,
      "id": "de7a5445-3ef4-4b1f-95f9-9461a7c18e43",
      "metadata": {
        "id": "de7a5445-3ef4-4b1f-95f9-9461a7c18e43",
        "tags": []
      },
      "outputs": [
        {
          "name": "stdout",
          "output_type": "stream",
          "text": [
            "The mean array is 2.0\n"
          ]
        }
      ],
      "source": [
        "import numpy as np\n",
        "\n",
        "def array_cal(num_lst, op):\n",
        "\n",
        "    num_ar = np.array(num_lst)\n",
        "    if op == 'median':\n",
        "        return np.median(num_ar)\n",
        "    elif op == 'mean':\n",
        "        return np.mean(num_ar)\n",
        "\n",
        "\n",
        "# Test with different arguments!\n",
        "num_lst = [1,2,3]\n",
        "op = 'mean'\n",
        "result = array_cal(num_lst, op)\n",
        "print(\"The \" + op + \" array is \" + str(result))"
      ]
    },
    {
      "cell_type": "markdown",
      "id": "784a7cfd-c8f9-4128-aeea-9881155e49a7",
      "metadata": {
        "deletable": false,
        "editable": false,
        "id": "784a7cfd-c8f9-4128-aeea-9881155e49a7"
      },
      "source": [
        "When you're ready run the cell below to get feedback on your answer."
      ]
    },
    {
      "cell_type": "code",
      "execution_count": 5,
      "id": "8dc2bc07",
      "metadata": {
        "deletable": false,
        "editable": false,
        "id": "8dc2bc07"
      },
      "outputs": [
        {
          "data": {
            "text/html": [
              "<p><strong><pre style='display: inline;'>q1</pre></strong> passed! 🍀</p>"
            ],
            "text/plain": [
              "q1 results: All test cases passed!"
            ]
          },
          "execution_count": 5,
          "metadata": {},
          "output_type": "execute_result"
        }
      ],
      "source": [
        "grader.check(\"q1\")"
      ]
    },
    {
      "cell_type": "markdown",
      "id": "1SeCsrI2P26g",
      "metadata": {
        "id": "1SeCsrI2P26g"
      },
      "source": [
        "<br/>\n",
        "<br/>\n",
        "<br/>\n",
        "<br/>\n",
        "<br/>\n",
        "<br/>\n",
        "\n",
        "---"
      ]
    },
    {
      "cell_type": "markdown",
      "id": "4f38ccfb",
      "metadata": {
        "deletable": false,
        "editable": false,
        "id": "4f38ccfb"
      },
      "source": [
        "## Submission\n",
        "\n",
        "Don't forget to run all cells in your notebook and then save it. To save, click on `File`, then select `Save/Save Notebook`. After that, download the notebook by going to `File`, then `Download` (for Anaconda notebook), and choosing `Download .ipynb` (for Colab). Finally, submit the notebook on `Gradescope` using the link found on ELMS."
      ]
    },
    {
      "cell_type": "code",
      "execution_count": null,
      "id": "_0b69BaORgLa",
      "metadata": {
        "id": "_0b69BaORgLa"
      },
      "outputs": [],
      "source": []
    }
  ],
  "metadata": {
    "colab": {
      "provenance": []
    },
    "kernelspec": {
      "display_name": "Python 3 (ipykernel)",
      "language": "python",
      "name": "python3"
    },
    "language_info": {
      "codemirror_mode": {
        "name": "ipython",
        "version": 3
      },
      "file_extension": ".py",
      "mimetype": "text/x-python",
      "name": "python",
      "nbconvert_exporter": "python",
      "pygments_lexer": "ipython3",
      "version": "3.12.4"
    },
    "otter": {
      "OK_FORMAT": true,
      "tests": {
        "q1": {
          "name": "q1",
          "points": null,
          "suites": [
            {
              "cases": [
                {
                  "code": ">>> assert array_cal([1, 2, 3], 'mean') == 2.0, \"For input [1,2,3] and 'mean'', the function should return 2.0\"\n",
                  "hidden": false,
                  "locked": false
                },
                {
                  "code": ">>> assert array_cal([5, 6, 7], 'mean') == 6.0, \"For input [5,6,7] and 'mean'', the function should return 3.0\"\n",
                  "hidden": false,
                  "locked": false
                },
                {
                  "code": ">>> assert array_cal([5, 6, 7], 'median') == 6.0, \"For input [5,6,7] and 'median'', the function should return 6.0\"\n",
                  "hidden": false,
                  "locked": false
                },
                {
                  "code": ">>> assert array_cal([5, 6, 4, 5, 7, 3, 7], 'median') == 5.0, \"For input [5,6,4,5,7,3,7] and 'median'', the function should return 5.0\"\n",
                  "hidden": false,
                  "locked": false
                }
              ],
              "scored": true,
              "setup": "",
              "teardown": "",
              "type": "doctest"
            }
          ]
        }
      }
    }
  },
  "nbformat": 4,
  "nbformat_minor": 5
}
