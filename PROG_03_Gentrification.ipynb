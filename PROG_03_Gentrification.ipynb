{
  "cells": [
    {
      "cell_type": "markdown",
      "id": "6eed372e",
      "metadata": {
        "id": "6eed372e",
        "nbgrader": {
          "grade": false,
          "grade_id": "cell-7d1a43ec15e21c1a",
          "locked": true,
          "schema_version": 3,
          "solution": false,
          "task": false
        }
      },
      "source": [
        "\n",
        "# Programming Assignment 3: Gentrification [Total: 12 pts]\n",
        "\n",
        "## Table of Contents\n",
        "<ul>\n",
        "    <li>Research questions</li>\n",
        "    <li>Technical skills</li>\n",
        "    <li>Description</li>\n",
        "    <li>What to submit</li>\n",
        "    <li>Grading rubric</li>\n",
        "    <li>Data dictionary</li>\n",
        "    <li>Data Download</li>\n",
        "    <li>Visualization 1 [4 points]</li>\n",
        "    <li>Visualization 2 [4 points]</li>\n",
        "    <li>Summary [4 points]</li>\n",
        "</ul>"
      ]
    },
    {
      "cell_type": "markdown",
      "id": "86bbb7a2",
      "metadata": {
        "id": "86bbb7a2",
        "nbgrader": {
          "grade": false,
          "grade_id": "cell-ef419c48898fd809",
          "locked": true,
          "schema_version": 3,
          "solution": false,
          "task": false
        }
      },
      "source": [
        "## Research questions\n",
        "\n",
        "For this assignment you will use data visualization to answer the following two questions:\n",
        "1. ***Is there an association between mean or median household income and the number of &ldquo;Parking Enforcement&rdquo; service requests?***\n",
        "2. ***Are the requests from wealthier wards (as measured by either mean or median household income) getting resolved sooner than those from poorer wards?***\n",
        "\n",
        "## Technical Skills\n",
        "    \n",
        "- Explore the data using Pandas (aggregation, merging, data wrangling);\n",
        "- Visualize the data to help address the main research question;\n",
        "- Tell a compelling story by presenting results in a Jupyter notebook using MarkDown (see this [MarkDown tutorial](https://www.earthdatascience.org/courses/intro-to-earth-data-science/file-formats/use-text-files/format-text-with-markdown-jupyter-notebook/) for help).\n",
        "\n",
        "## Description\n",
        "\n",
        "Some researchers have claimed that [gentrification](https://en.wikipedia.org/wiki/Gentrification) leads to more complaints. The _Science Vs._ podcast ran [an episode](https://gimletmedia.com/shows/science-vs/39hzkk) on the issue of 311 noise complaints and degree of gentrification. We are going to do a similar analysis by looking at how household income relates (and indicator of gentrification) to service requests in the city of DC.\n",
        "\n",
        "DC is divided into 8 geographic units called wards. These wards differ along many dimensions, including centrality to downtown, demographic composition, density, etc. In this assignment you will be exploring whether more service requests come from certain DC wards. In particular, your task is to uncover whether there is an association between average income and the number of requests.\n",
        "\n",
        "The US Census Bureau regularly gathers information the US population using the [American Community Survey](https://en.wikipedia.org/wiki/American_Community_Survey). This information includes mean and median household income. DC summarizes this information by ward ([`WardIncome.csv`](https://github.com/mainuddin-rony/inst447-fall2024/raw/main/assignment/Programming/Prog3/WardIncome.csv)). To carry out your analysis, you will need to combine this data with the 311 requests data. This 311 requests data has been splitted into two files - [`311requests Part 1.csv`](https://github.com/mainuddin-rony/inst447-fall2024/raw/main/assignment/Programming/Prog3/311requests%20Part%201.csv) and [`311requests Part 2.json`](https://github.com/mainuddin-rony/inst447-fall2024/raw/main/assignment/Programming/Prog3/311requests%20Part%202.json). You need to load them into dataframes and concatenate them before using it.\n",
        "\n",
        "## What to submit\n",
        "\n",
        "<div class=\"alert alert-info\">There is no autograder in this notebook. However, your visualizations need to be reproducible for us to grade them. So make sure to do <i>Kernel &rarr; Restart &amp; Run All</i> before submitting to ensure that your code works.</div>\n",
        "\n",
        "You will work entirely in this notebook and submit it on Gradescope as usual. You should produce in this notebook __2 visualizations__ that answer the two research questions above.\n",
        "\n",
        "Each visualization should include at least the following elements:\n",
        "1. Clear __axis labels__ on both the $x$ and $y$ axis;\n",
        "2. A figure __title__;\n",
        "3. A brief (3 to 4 sentences max) __description of the plot__ in a separate cell underneath the plot cell.\n",
        "\n",
        "Finally, in the last cell of the notebook, you should write a short __summary of findings__ describing what you found across the 2 visualizations, why it matters, and to whom: your findings could be helpful. Make sure to identify in your summary who may benefit from knowledge of your findings. _The summary should be at least 150 words long._\n",
        "\n",
        "\n",
        "## Grading rubric\n",
        "\n",
        "* Each visualization is worth **4 points**, with these possible penalties:\n",
        "  - Up to &minus;1 pt penalty missing / uninformative axis label (note this applies to each axis separately, so this is max &minus;2 pts).\n",
        "  - Up to &minus;1 pt penalty for missing / uninformative title.\n",
        "  - Up to &minus;1 pt penalty for missing / too short / uninformative plot description.\n",
        "* The final summary is worth **4 points**, with these possible penalties:\n",
        "  - Up to &minus;1 pt penalty for not meeting the minimum length (&ge;150 words);\n",
        "  - Up to &minus;1 pt penalty for not summarizing findings of _all two_ plots;"
      ]
    },
    {
      "cell_type": "markdown",
      "id": "29a22d66",
      "metadata": {
        "id": "29a22d66",
        "nbgrader": {
          "grade": false,
          "grade_id": "cell-b8bd186b00884e89",
          "locked": true,
          "schema_version": 3,
          "solution": false,
          "task": false
        }
      },
      "source": [
        "## Data dictionary\n",
        "\n",
        "### File `311requests Part 1.csv` and `311requests Part 2.json`\n",
        "In the spirit of transparency, DC government provides information about its services and functions through its open data portal. One of the types of data that it provides is a list of all requests the city receives from the community. Here is a brief description of each column:\n",
        "\n",
        "- `X` &ndash; $x$ coordinate of the service request location.\n",
        "- `Y` &ndash; $y$ coordinate of the service request location.  \n",
        "- `OBJECTID` &ndash; Unique ID number for each request.\n",
        "- `SERVICECODE` &ndash; Code indicating the type of service requested.\n",
        "- `SERVICECODEDESCRIPTION` &ndash; Description of the service request type.\n",
        "- `SERVICETYPECODEDESCRIPTION` &ndash; Description of the service request category.\n",
        "- `ORGANIZATIONACRONYM` &ndash; Acronym for the organization handling the request.\n",
        "- `SERVICECALLCOUNT` &ndash; Number of service calls generated for the request.\n",
        "- `ADDDATE` &ndash; Date the request was made.\n",
        "- `RESOLUTIONDATE` &ndash; Date the request was resolved.\n",
        "- `SERVICEDUEDATE` &ndash; Date by which the request must be addressed.\n",
        "- `SERVICEORDERDATE` &ndash; Date the service order was created.\n",
        "- `INSPECTIONFLAG` &ndash; Flag indicating if an inspection is required.\n",
        "- `INSPECTIONDATE` &ndash; Date of the inspection if applicable.\n",
        "- `SERVICEORDERSTATUS` &ndash; Status of the service order.\n",
        "- `SERVICEREQUESTID` &ndash; Unique ID number for the service request.\n",
        "- `PRIORITY` &ndash; Priority level of the request.\n",
        "- `STREETADDRESS` &ndash; Street address where service is requested.\n",
        "- `XCOORD` &ndash; $x$ coordinate of the request location.\n",
        "- `YCOORD` &ndash; $y$ coordinate of the request location.\n",
        "- `LATITUDE` &ndash; Latitude of the request location.\n",
        "- `LONGITUDE` &ndash; Longitude of the request location.\n",
        "- `CITY` &ndash; City where service is requested.\n",
        "- `STATE` &ndash; State where service is requested.\n",
        "- `ZIPCODE` &ndash; Zip code where service is requested.\n",
        "- `MARADDRESSREPOSITORYID` &ndash; ID linking to an address database.\n",
        "- `WARD` &ndash; City ward where service is requested.\n",
        "- `GLOBALID` &ndash; Alternate unique ID number for request.\n",
        "- `CREATOR` &ndash; Creator of the service request record.\n",
        "\n",
        "### File `WardIncome.csv'\n",
        "\n",
        "These data have been compiled by US Census Bureau as part of the [American Community Survey](https://en.wikipedia.org/wiki/American_Community_Survey). Only the data relating to DC's 8 wards are included in this file. Here is a brief description of each column:\n",
        "- `Ward` &ndash; The ward number\n",
        "- `MedianHHincome` &ndash; The median household income\n",
        "- `Meanincome` &ndash; The mean household income\n",
        "\n",
        "---"
      ]
    },
    {
      "cell_type": "markdown",
      "id": "ECYELxi-qVkO",
      "metadata": {
        "id": "ECYELxi-qVkO"
      },
      "source": [
        "## Data Download\n",
        "\n",
        "Please ensure that this **notebook is kept in a separate folder.** This is because the following commands will delete all files with the extensions .csv and .py before downloading the required files."
      ]
    },
    {
      "cell_type": "code",
      "execution_count": 1,
      "id": "VJqLGsx5od2s",
      "metadata": {
        "colab": {
          "base_uri": "https://localhost:8080/"
        },
        "id": "VJqLGsx5od2s",
        "outputId": "3ff14390-16cd-4415-c636-b9b8511299d3"
      },
      "outputs": [
        {
          "name": "stdout",
          "output_type": "stream",
          "text": [
            "zsh:1: no matches found: *.csv\n",
            "--2024-11-13 11:20:54--  https://github.com/mainuddin-rony/inst447-fall2024/raw/main/assignment/Programming/Prog3/data.zip\n",
            "Resolving github.com (github.com)... 140.82.112.3\n",
            "Connecting to github.com (github.com)|140.82.112.3|:443... connected.\n",
            "HTTP request sent, awaiting response... 302 Found\n",
            "Location: https://raw.githubusercontent.com/mainuddin-rony/inst447-fall2024/main/assignment/Programming/Prog3/data.zip [following]\n",
            "--2024-11-13 11:20:54--  https://raw.githubusercontent.com/mainuddin-rony/inst447-fall2024/main/assignment/Programming/Prog3/data.zip\n",
            "Resolving raw.githubusercontent.com (raw.githubusercontent.com)... 185.199.108.133, 185.199.111.133, 185.199.110.133, ...\n",
            "Connecting to raw.githubusercontent.com (raw.githubusercontent.com)|185.199.108.133|:443... connected.\n",
            "HTTP request sent, awaiting response... 200 OK\n",
            "Length: 35229190 (34M) [application/zip]\n",
            "Saving to: ‘data.zip’\n",
            "\n",
            "data.zip            100%[===================>]  33.60M  13.9MB/s    in 2.4s    \n",
            "\n",
            "2024-11-13 11:20:57 (13.9 MB/s) - ‘data.zip’ saved [35229190/35229190]\n",
            "\n",
            "Archive:  data.zip\n",
            "  inflating: WardIncome.csv          \n",
            "  inflating: ._WardIncome.csv        \n",
            "  inflating: 311requests Part 1.csv  \n",
            "  inflating: ._311requests Part 1.csv  \n",
            "  inflating: 311requests Part 2.json  \n",
            "  inflating: ._311requests Part 2.json  \n"
          ]
        }
      ],
      "source": [
        "# Download the data files\n",
        "required_files = \"https://github.com/mainuddin-rony/inst447-fall2024/raw/main/assignment/Programming/Prog3/data.zip\"\n",
        "! rm -f data.zip *.csv *.py .*.csv .*.json\n",
        "! wget $required_files && unzip -j data.zip"
      ]
    },
    {
      "cell_type": "markdown",
      "id": "e49207b2",
      "metadata": {
        "id": "e49207b2",
        "nbgrader": {
          "grade": false,
          "grade_id": "cell-3ba21176065d050a",
          "locked": true,
          "schema_version": 3,
          "solution": false,
          "task": false
        }
      },
      "source": [
        "---\n",
        "\n",
        "## Viz1\n",
        "\n",
        "**Research Question 1**: _Is there an association between mean or median household income and the number of &ldquo;Parking Enforcement&rdquo; service requests?_\n",
        "\n",
        "### Hints\n",
        "In the 311 requests files, the `SERVICECODEDESCRIPTION` column provides information about the type of service being requested. You will need to subset the data frame, aggregate at the ward level, and finally merge the aggregated data with income data. The choice of what type of income measure (median or mean) is up to you. Finally, even though there is not a right or wrong type of graph to use for this visualization, some graphs are better suited than other. Ask yourself: which graph / plot is best used to illustrate the relationship between two continuous (i.e., numerical) variables?\n",
        "\n",
        "### Viz1: Code cell\n",
        "\n",
        "**Points:** 3\n",
        "\n",
        "Use the code cell below to produce your plot. Refer to the **Grading-rubric** for what to include in it. You may add extra cells if you like but please do not delete / duplicate that cell. Running your cell should display a plot."
      ]
    },
    {
      "cell_type": "markdown",
      "id": "znLcw8f5jQ-U",
      "metadata": {
        "id": "znLcw8f5jQ-U"
      },
      "source": [
        "#Counting, Filtering, Concating, and Merging the dataset *FIRST*"
      ]
    },
    {
      "cell_type": "code",
      "execution_count": 8,
      "id": "8Wo3JH9TgG0m",
      "metadata": {
        "id": "8Wo3JH9TgG0m"
      },
      "outputs": [],
      "source": [
        "import pandas as pd\n",
        "\n",
        "requests_csv = pd.read_csv('311requests Part 1.csv')\n",
        "requests_json = pd.read_json('311requests Part 2.json')\n",
        "income = pd.read_csv('WardIncome.csv')\n",
        "\n",
        "\n",
        "total_requests = pd.concat([requests_csv, requests_json])\n",
        "parking_enforcement_requests = total_requests[total_requests['SERVICECODEDESCRIPTION'] == 'Parking Enforcement']\n",
        "parking_requests_ward = parking_enforcement_requests.groupby('WARD').size().reset_index(name='Parking Requests')\n",
        "\n",
        "data = pd.merge(parking_requests_ward, income, left_on='WARD', right_on='Ward')"
      ]
    },
    {
      "cell_type": "markdown",
      "id": "U1G-xS7Lju8r",
      "metadata": {
        "id": "U1G-xS7Lju8r"
      },
      "source": [
        "#Viz #1"
      ]
    },
    {
      "cell_type": "code",
      "execution_count": 16,
      "id": "vhkZRdYsgbIw",
      "metadata": {
        "colab": {
          "base_uri": "https://localhost:8080/",
          "height": 409
        },
        "id": "vhkZRdYsgbIw",
        "outputId": "76611529-d5f7-4bfe-b45c-b7385f06c9c7"
      },
      "outputs": [
        {
          "data": {
            "image/png": "[encoded data removed]",
            "text/plain": [
              "<Figure size 1500x600 with 1 Axes>"
            ]
          },
          "metadata": {},
          "output_type": "display_data"
        }
      ],
      "source": [
        "import matplotlib.pyplot as plt\n",
        "import seaborn as sns\n",
        "%matplotlib inline\n",
        "\n",
        "# Regression plot\n",
        "plt.figure(figsize=(15, 6))\n",
        "sns.regplot(data=data, x='MeanHHincome', y='Parking Requests', marker='s', color='lightgreen', line_kws={'color': 'lightgreen'},\n",
        "    scatter_kws={'color': 'darkgreen'})\n",
        "plt.title('Mean Household Income vs. Number of Parking Enforcement Requests')\n",
        "plt.xlabel('Mean Household Income')\n",
        "plt.ylabel('# of Parking Enforcement Requests')\n",
        "\n",
        "plt.show()"
      ]
    },
    {
      "cell_type": "markdown",
      "id": "95df43c0",
      "metadata": {
        "id": "95df43c0",
        "nbgrader": {
          "grade": false,
          "grade_id": "cell-9d6457c5576ea268",
          "locked": true,
          "schema_version": 3,
          "solution": false,
          "task": false
        }
      },
      "source": [
        "### Viz1: MarkDown cell\n",
        "\n",
        "**Points**: 1\n",
        "\n",
        "Use the markdown cell below to describe your plot and answer the research question findings. Refer to the **Grading-rubric** for what to include in it."
      ]
    },
    {
      "cell_type": "markdown",
      "id": "10b3599b",
      "metadata": {
        "id": "10b3599b",
        "nbgrader": {
          "grade": true,
          "grade_id": "cell-41b2c60cb7520146",
          "locked": false,
          "points": 1,
          "schema_version": 3,
          "solution": true,
          "task": false
        }
      },
      "source": [
        "`The regression plot displays the relationship between mean household income and the number of parking enforcement requests. Each point on the regression plot represents a ward. The x-axis is the 'mean household income' and y-axis is the '# of parking enforcemnt requests'. This visualization shows a correlation between the income level and a ward and the demand of parking enforcement services.`"
      ]
    },
    {
      "cell_type": "markdown",
      "id": "9ec6ab15",
      "metadata": {
        "id": "9ec6ab15",
        "nbgrader": {
          "grade": false,
          "grade_id": "cell-469ff2d1efdc4309",
          "locked": true,
          "schema_version": 3,
          "solution": false,
          "task": false
        }
      },
      "source": [
        "---\n",
        "\n",
        "## Viz2\n",
        "\n",
        "**Research Question**: _Are the requests from wealthier wards (as measured by either mean or median household income) getting resolved sooner than those from poorer wards?_\n",
        "\n",
        "### Hints\n",
        "\n",
        "In the 311 requests files, the `ADDDATE` and the `RESOLUTIONDATE` columns provides information about when a service request was placed and when it was solved; you will need to parse them and use them to compute the time it took to resolve the request. Note that not all requests recorded in the data have been resolved. If a request was not resolved, the `RESOLUTIONDATE` will be set to `1970-01-01 00:00:00`. Since the entries without a resolution date are a small subset of the total data, you may simply filter them out of your analysis.\n",
        "\n",
        "Next, you will need to aggregate the data at the ward level, and finally merge the aggregated data with income data. The choice of what type of income measure (median or mean) is up to you. Finally, even though there is not a right or wrong type of graph to use for this visualization, some graphs are better suited than other. Ask yourself: which graph / plot is best used to illustrate the relationship between two continuous (i.e., numerical) variables?\n",
        "\n",
        "### Viz2: Code cell\n",
        "\n",
        "**Points:** 3\n",
        "\n",
        "Use the code cell below to produce your plot. Refer to the **Grading-rubric** for what to include in it. You may add extra cells if you like but please do not delete / duplicate that cell. Running your cell should display a plot."
      ]
    },
    {
      "cell_type": "markdown",
      "id": "A_7MnNUJleL4",
      "metadata": {
        "id": "A_7MnNUJleL4"
      },
      "source": [
        "# Dates, Calculation, Aggregation, and Merge the dataset *FIRST*"
      ]
    },
    {
      "cell_type": "code",
      "execution_count": 4,
      "id": "-qEunW8Jk093",
      "metadata": {
        "id": "-qEunW8Jk093"
      },
      "outputs": [],
      "source": [
        "import pandas as pd\n",
        "\n",
        "requests_csv = pd.read_csv('311requests Part 1.csv')\n",
        "requests_json = pd.read_json('311requests Part 2.json')\n",
        "income = pd.read_csv('WardIncome.csv')\n",
        "\n",
        "total_requests = pd.concat([requests_csv, requests_json])\n",
        "\n",
        "total_requests['ADDDATE'] = pd.to_datetime(total_requests['ADDDATE'])\n",
        "total_requests['RESOLUTIONDATE'] = pd.to_datetime(total_requests['RESOLUTIONDATE'])\n",
        "\n",
        "total_requests = total_requests[total_requests['RESOLUTIONDATE'] != pd.Timestamp('1970-01-01 00:00:00')]\n",
        "total_requests['Resolution_Time'] = (total_requests['RESOLUTIONDATE'] - total_requests['ADDDATE']).dt.days\n",
        "resolution_time_ward = total_requests.groupby('WARD')['Resolution_Time'].mean().reset_index()\n",
        "\n",
        "data = pd.merge(resolution_time_ward, income, left_on='WARD', right_on='Ward')\n",
        "data_sorted = data.sort_values(by=['Resolution_Time', 'MeanHHincome'], ascending=False)"
      ]
    },
    {
      "cell_type": "markdown",
      "id": "oWttpOEro8NC",
      "metadata": {
        "id": "oWttpOEro8NC"
      },
      "source": [
        "#Viz #2"
      ]
    },
    {
      "cell_type": "code",
      "execution_count": 17,
      "id": "2df001a4",
      "metadata": {
        "colab": {
          "base_uri": "https://localhost:8080/",
          "height": 735
        },
        "id": "2df001a4",
        "nbgrader": {
          "grade": true,
          "grade_id": "cell-2e9c1f67b46360ca",
          "locked": false,
          "points": 3,
          "schema_version": 3,
          "solution": true,
          "task": false
        },
        "outputId": "7e221cf6-ebc6-42eb-d5ba-731f34fc9869"
      },
      "outputs": [
        {
          "name": "stderr",
          "output_type": "stream",
          "text": [
            "<ipython-input-17-12cec379c7d6>:7: FutureWarning: \n",
            "\n",
            "Passing `palette` without assigning `hue` is deprecated and will be removed in v0.14.0. Assign the `x` variable to `hue` and set `legend=False` for the same effect.\n",
            "\n",
            "  sns.barplot(data=data_sorted, x='WARD', y='Resolution_Time', palette= \"dark:salmon_r\")\n"
          ]
        },
        {
          "data": {
            "image/png": "[encoded data removed]",
            "text/plain": [
              "<Figure size 1200x800 with 1 Axes>"
            ]
          },
          "metadata": {},
          "output_type": "display_data"
        }
      ],
      "source": [
        "import matplotlib.pyplot as plt\n",
        "import seaborn as sns\n",
        "%matplotlib inline\n",
        "\n",
        "# Bar plot\n",
        "plt.figure(figsize=(12, 8))\n",
        "sns.barplot(data=data_sorted, x='WARD', y='Resolution_Time', palette= \"dark:salmon_r\")\n",
        "plt.title('Average Resolution Time by Ward (Ascending Order)')\n",
        "plt.xlabel('Wards')\n",
        "plt.ylabel('Average Resolution Time (Days)')\n",
        "plt.gca().invert_yaxis()\n",
        "\n",
        "plt.show()"
      ]
    },
    {
      "cell_type": "markdown",
      "id": "d7cc147a",
      "metadata": {
        "id": "d7cc147a",
        "nbgrader": {
          "grade": false,
          "grade_id": "cell-4ae851827a5db935",
          "locked": true,
          "schema_version": 3,
          "solution": false,
          "task": false
        }
      },
      "source": [
        "### Viz2: MarkDown cell\n",
        "\n",
        "**Points**: 1\n",
        "\n",
        "Use the markdown cell below to describe your plot and answer the research question findings. Refer to the **Grading-rubric** for what to include in it."
      ]
    },
    {
      "cell_type": "markdown",
      "id": "20c80513",
      "metadata": {
        "id": "20c80513",
        "nbgrader": {
          "grade": true,
          "grade_id": "cell-9f67713b331689d5",
          "locked": false,
          "points": 1,
          "schema_version": 3,
          "solution": true,
          "task": false
        }
      },
      "source": [
        "`The bar plot displays the average resolution time for service requests by ward and the bars being the different ward's average resolution time in days, while being in ascending by ward on the x-axis. The y-axis is inverted for easier interpretation. This visualization shows which wards experience faster/slower responses times and highlighting areas for improvement. This correlation could look at socioeconomic status of certain areas.`"
      ]
    },
    {
      "cell_type": "markdown",
      "id": "86c0f91a",
      "metadata": {
        "id": "86c0f91a",
        "nbgrader": {
          "grade": false,
          "grade_id": "cell-da1b51b716bf566b",
          "locked": true,
          "schema_version": 3,
          "solution": false,
          "task": false
        }
      },
      "source": [
        "---\n",
        "\n",
        "# Summary\n",
        "\n",
        "Use the markdown cell below to summarize your findings. Refer to the **Grading-rubric** for what to include in it."
      ]
    },
    {
      "cell_type": "markdown",
      "id": "288143f3",
      "metadata": {
        "id": "288143f3",
        "nbgrader": {
          "grade": true,
          "grade_id": "cell-085e6f8017590dcb",
          "locked": false,
          "points": 3,
          "schema_version": 3,
          "solution": true,
          "task": false
        }
      },
      "source": [
        "`The first visualization, which is a regression plot of the mean household income and number of parking enforcement requests, displays connections between people's income and demand for parking enforcement services. By looking at this visualization, government agencies and local businesses can find wards needing more resources and assistance to address parking issues quickly. A better understanding of communities will help to enhance community happiness.`\n",
        "\n",
        "`The second visualization, which is a bar plot showing each ward's average resolution times in ascending order, which reveals a lot of disparities. Looking at this visualization, the government could help improve efficiency and give resources. Local services could use this visualization to change their operations, provide quicker service, and increase service quality.`\n",
        "\n",
        "`The first and second visualizations are necessary and can help in decision-making that benefits the community, improving access to services, improving responses,  and strengthening communities. They highlight the relationship between community needs, socioeconomic status, and the need for assistance from the government.`"
      ]
    }
  ],
  "metadata": {
    "celltoolbar": "Create Assignment",
    "colab": {
      "provenance": [],
      "toc_visible": true
    },
    "kernelspec": {
      "display_name": "Python 3 (ipykernel)",
      "language": "python",
      "name": "python3"
    },
    "language_info": {
      "codemirror_mode": {
        "name": "ipython",
        "version": 3
      },
      "file_extension": ".py",
      "mimetype": "text/x-python",
      "name": "python",
      "nbconvert_exporter": "python",
      "pygments_lexer": "ipython3",
      "version": "3.12.4"
    }
  },
  "nbformat": 4,
  "nbformat_minor": 5
}
